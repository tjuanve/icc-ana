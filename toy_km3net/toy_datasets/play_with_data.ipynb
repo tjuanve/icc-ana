{
 "cells": [
  {
   "cell_type": "code",
   "execution_count": 2,
   "metadata": {},
   "outputs": [],
   "source": [
    "import NNMFit"
   ]
  },
  {
   "cell_type": "code",
   "execution_count": 3,
   "metadata": {},
   "outputs": [],
   "source": [
    "import pandas as pd"
   ]
  },
  {
   "cell_type": "code",
   "execution_count": 4,
   "metadata": {},
   "outputs": [],
   "source": [
    "file_path = \"/data/user/rnaab/GlobalFit/NNMFit/datasets/SnowStorm_example_tracks/dataset_example.hdf\"\n",
    "\n",
    "df = pd.read_hdf(file_path)"
   ]
  },
  {
   "cell_type": "code",
   "execution_count": 5,
   "metadata": {},
   "outputs": [],
   "source": [
    "import matplotlib.pyplot as plt\n",
    "import numpy as np"
   ]
  },
  {
   "cell_type": "code",
   "execution_count": 6,
   "metadata": {},
   "outputs": [
    {
     "data": {
      "text/plain": [
       "Index(['mjd', 'event_id', 'energy_muex', 'energy_muex_exists',\n",
       "       'reco_dir_fit_status', 'reco_dir_exists', 'zenith_MPEFit',\n",
       "       'azimuth_MPEFit', 'energy_truncated_exists', 'energy_truncated',\n",
       "       'energy_truncated_fit_status', 'TIntProbW', 'OneWeight', 'Event',\n",
       "       'SubEvent', 'MCPrimaryType', 'MCPrimaryAzimuth', 'MCPrimaryEnergy',\n",
       "       'MCPrimaryZenith', 'IceScattering', 'IceAbsorption', 'DOMEfficiency',\n",
       "       'IceAnisotropyScale', 'HoleIceForward_p0', 'HoleIceForward_p1',\n",
       "       'MCType', 'powerlaw', 'mceq_conv_H4a_SIBYLL23c',\n",
       "       'mceq_conv_GST4_SIBYLL23c', 'mceq_pr_H4a_SIBYLL23c',\n",
       "       'mceq_pr_GST4_SIBYLL23c', 'fluxless_weight'],\n",
       "      dtype='object')"
      ]
     },
     "execution_count": 6,
     "metadata": {},
     "output_type": "execute_result"
    }
   ],
   "source": [
    "df.keys()"
   ]
  },
  {
   "cell_type": "code",
   "execution_count": 10,
   "metadata": {},
   "outputs": [
    {
     "data": {
      "text/plain": [
       "(array([1.03911994e-02, 3.24843674e-03, 5.84509956e-04, 8.75042556e-05,\n",
       "        1.40281543e-05, 2.47250646e-06, 1.27403780e-06, 1.18030612e-06,\n",
       "        3.91353880e-07, 1.27795546e-07, 9.16376521e-08, 4.92718170e-08,\n",
       "        3.40130295e-08, 4.82436014e-08, 7.29499276e-08, 1.68942556e-07,\n",
       "        1.76355639e-06, 1.03388097e-05, 3.94718328e-05, 5.74241378e-03]),\n",
       " array([2.00002138, 2.30000337, 2.59998536, 2.89996734, 3.19994933,\n",
       "        3.49993132, 3.7999133 , 4.09989529, 4.39987728, 4.69985926,\n",
       "        4.99984125, 5.29982324, 5.59980522, 5.89978721, 6.1997692 ,\n",
       "        6.49975119, 6.79973317, 7.09971516, 7.39969715, 7.69967913,\n",
       "        7.99966112]),\n",
       " <BarContainer object of 20 artists>)"
      ]
     },
     "execution_count": 10,
     "metadata": {},
     "output_type": "execute_result"
    },
    {
     "data": {
      "image/png": "[encoded data removed]",
      "text/plain": [
       "<Figure size 640x480 with 1 Axes>"
      ]
     },
     "metadata": {},
     "output_type": "display_data"
    }
   ],
   "source": [
    "# df.keys()\n",
    "# df.iloc[1]\n",
    "\n",
    "fig, (ax) = plt.subplots(1, 1)\n",
    "\n",
    "# plt.hist( np.log10( df[\"MCPrimaryEnergy\"] ) , bins = 20, weights = df[\"fluxless_weight\"]*(df[\"MCPrimaryEnergy\"]**-2) )\n",
    "# plt.hist( np.log10( df[\"MCPrimaryEnergy\"] ) , bins = 20, weights = df[\"powerlaw\"] )\n",
    "plt.hist( np.log10( df[\"MCPrimaryEnergy\"] ) , bins = 20, weights = 1/df[\"OneWeight\"] )\n",
    "# plt.hist( np.log10( df[\"OneWeight\"] ) , bins = 20 )\n",
    "# plt.hist( np.log10( df[\"fluxless_weight\"] ), bins = 20 )"
   ]
  }
 ],
 "metadata": {
  "kernelspec": {
   "display_name": "py3-v4.2.1_nnmfit-v0.3.0",
   "language": "python",
   "name": "python3"
  },
  "language_info": {
   "codemirror_mode": {
    "name": "ipython",
    "version": 3
   },
   "file_extension": ".py",
   "mimetype": "text/x-python",
   "name": "python",
   "nbconvert_exporter": "python",
   "pygments_lexer": "ipython3",
   "version": "3.10.2"
  }
 },
 "nbformat": 4,
 "nbformat_minor": 2
}
