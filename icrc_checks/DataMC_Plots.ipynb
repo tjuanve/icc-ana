{
 "cells": [
  {
   "cell_type": "code",
   "execution_count": 2,
   "id": "0f742e65",
   "metadata": {},
   "outputs": [],
   "source": [
    "import sys, os\n",
    "import pandas as pd\n"
   ]
  },
  {
   "cell_type": "code",
   "execution_count": 3,
   "id": "2a5b6e0e",
   "metadata": {},
   "outputs": [],
   "source": [
    "%load_ext autoreload"
   ]
  },
  {
   "cell_type": "code",
   "execution_count": 4,
   "id": "35dfa598",
   "metadata": {},
   "outputs": [],
   "source": [
    "%autoreload 2"
   ]
  },
  {
   "cell_type": "code",
   "execution_count": null,
   "id": "6123ef1c",
   "metadata": {},
   "outputs": [
    {
     "name": "stdout",
     "output_type": "stream",
     "text": [
      "/mnt/ceph1-npx/user/nlad/NNMFitStuff\n"
     ]
    },
    {
     "name": "stderr",
     "output_type": "stream",
     "text": [
      "/home/nlad/NNMFit_venv_test/lib/python3.10/site-packages/IPython/core/magics/osm.py:417: UserWarning: This is now an optional IPython functionality, setting dhist requires you to install the `pickleshare` library.\n",
      "  self.shell.db['dhist'] = compress_dhist(dhist)[-100:]\n"
     ]
    },
    {
     "ename": "",
     "evalue": "",
     "output_type": "error",
     "traceback": [
      "\u001b[1;31mnotebook controller is DISPOSED. \n",
      "\u001b[1;31mView Jupyter <a href='command:jupyter.viewOutput'>log</a> for further details."
     ]
    }
   ],
   "source": [
    "%cd ../../"
   ]
  },
  {
   "cell_type": "code",
   "execution_count": 5,
   "id": "5f5ee7bb",
   "metadata": {},
   "outputs": [],
   "source": []
  },
  {
   "cell_type": "code",
   "execution_count": 6,
   "id": "bd6d8df1",
   "metadata": {},
   "outputs": [],
   "source": [
    "#plot_data_mc?"
   ]
  },
  {
   "cell_type": "code",
   "execution_count": null,
   "id": "fec54324",
   "metadata": {},
   "outputs": [],
   "source": [
    "###for LvsE\n",
    "#fit_file = '/data/ana/Diffuse/GlobalFit_Flavor/FitResults/HESE12/SPL/SAY/LvsE_prior3Syst/Freefit_04.pickle'\n",
    "\n",
    "####for 3D\n",
    "fit_file = '/data/ana/Diffuse/GlobalFit_Flavor/FitResults/Data/HESE12/SPL/SAY/LvsE_largebins/kdefits/with_mgunprior/with_double_gradients/prioronholeice/Freefit_05.pickle'\n",
    "#fit_file = '/data/ana/Diffuse/GlobalFit_Flavor/FitResults/Data/HESE12/SPL/SAY/ParamScans/LvsE_largebins/allparams/FitRes_astro_nutau_ratio_p0_0000.pickle'"
   ]
  },
  {
   "cell_type": "code",
   "execution_count": 62,
   "id": "298d0c53",
   "metadata": {},
   "outputs": [],
   "source": [
    "fit_file_pickle = pd.read_pickle(fit_file)"
   ]
  },
  {
   "cell_type": "code",
   "execution_count": 145,
   "id": "4ac018b6",
   "metadata": {},
   "outputs": [
    {
     "data": {
      "text/plain": [
       "{'astro_norm': 0,\n",
       " 'astro_nue_ratio': 0.45232987213122944,\n",
       " 'astro_nutau_ratio': 0.8963998364159318,\n",
       " 'gamma_astro': 2.8429418575098397,\n",
       " 'inel_scale': 0.999950692509751,\n",
       " 'CR_grad': 0.04816420768006666,\n",
       " 'barr_h': -3.603662184955879e-05,\n",
       " 'barr_w': -0.001794286951860185,\n",
       " 'barr_y': -0.01004913618573267,\n",
       " 'barr_z': -0.004247966017242478,\n",
       " 'conv_norm': 0,\n",
       " 'delta_gamma': -0.00012043215168910682,\n",
       " 'prompt_norm': 0,\n",
       " 'muongun_norm': 1.1596479279870846,\n",
       " 'dom_eff': 1.043904437153759,\n",
       " 'ice_abs': 0.9885817135163371,\n",
       " 'ice_scat': 0.9794450117263607,\n",
       " 'ice_holep0': -0.26734101032284746,\n",
       " 'ice_holep1': -0.08416403190869036,\n",
       " 'ice_aniso': 0.9076585570846607}"
      ]
     },
     "execution_count": 145,
     "metadata": {},
     "output_type": "execute_result"
    }
   ],
   "source": [
    "fit_file_pickle['fit-result'][1]\n",
    "# fit_file_pickle"
   ]
  },
  {
   "cell_type": "code",
   "execution_count": 6,
   "id": "a80eda40",
   "metadata": {},
   "outputs": [],
   "source": [
    "#parm input file to check data/mc at a specific group of paramter values\n",
    "#in this case, a specific scan point on flavor triangle (very close to 1:1:1)\n",
    "#saved from one of the scan point fits of the 3D fit file\n",
    "\n",
    "param_input_file = pd.read_pickle(\n",
    "'/data/ana/Diffuse/GlobalFit_Flavor/FitResults/Data/HESE12/SPL/SAY/ParamScans/LvsE_largebins/allparams/FitRes_astro_nutau_ratio_p0_0000.pickle'\n",
    ")"
   ]
  },
  {
   "cell_type": "code",
   "execution_count": 9,
   "id": "aee5840d",
   "metadata": {},
   "outputs": [],
   "source": [
    "#param_input_dict = param_input_file.to_dict()"
   ]
  },
  {
   "cell_type": "code",
   "execution_count": 98,
   "id": "afce59c9",
   "metadata": {},
   "outputs": [],
   "source": [
    "astro_graph_file = pd.read_pickle(\n",
    "'/data/ana/Diffuse/GlobalFit_Flavor/NNMFit_Configs/Graphs/AstroOnlyGradientsGraph.pickle'\n",
    ")\n",
    "conv_graph_file = pd.read_pickle(\n",
    "'/data/ana/Diffuse/GlobalFit_Flavor/NNMFit_Configs/Graphs/ConvOnlyGradientsGraph.pickle'\n",
    ")\n",
    "\n",
    "# astro_graphdict = astro_graph_file.to_dict()\n",
    "# conv_graphdict = conv_graph_file.to_dict()"
   ]
  },
  {
   "cell_type": "code",
   "execution_count": 136,
   "id": "2e553573",
   "metadata": {},
   "outputs": [
    {
     "data": {
      "text/plain": [
       "{'class_name': 'Binning_2D',\n",
       " 'analysis_variables': 'reco_energy,reco_length',\n",
       " 'reco_energy_binning': '(4.778, 7.1, 14, log)',\n",
       " 'reco_length_binning': '(1, 3, 11, log)'}"
      ]
     },
     "execution_count": 136,
     "metadata": {},
     "output_type": "execute_result"
    }
   ],
   "source": [
    "astro_graph_file['config']['IC86_pass2_SnowStorm_v2_Bfr_DoubleCascades_3D_binning']"
   ]
  },
  {
   "cell_type": "code",
   "execution_count": 102,
   "id": "66b241a7",
   "metadata": {},
   "outputs": [],
   "source": [
    "astro_graph_file['analysis']['input_params'] = fit_file_pickle['fit-result'][1]\n",
    "astro_graph_file['analysis']['input_params'][\"conv_norm\"] = 0\n",
    "astro_graph_file['analysis']['input_params'][\"prompt_norm\"] = 0\n",
    "\n",
    "\n",
    "conv_graph_file['analysis']['input_params'] = fit_file_pickle['fit-result'][1]\n",
    "conv_graph_file['analysis']['input_params'][\"astro_norm\"] = 0\n",
    "conv_graph_file['analysis']['input_params'][\"prompt_norm\"] = 0\n",
    "\n"
   ]
  },
  {
   "cell_type": "code",
   "execution_count": 111,
   "id": "b4195c76",
   "metadata": {},
   "outputs": [],
   "source": [
    "astro_nonue_graph_file = astro_graph_file.copy()\n",
    "astro_nonue_graph_file['analysis']['astro_nue_ratio'] = 0.0\n",
    "\n",
    "astro_nonutau_graph_file = astro_graph_file.copy()\n",
    "astro_nonutau_graph_file['analysis']['astro_nutau_ratio'] = 0.0\n",
    "\n",
    "astro_nonuenutau_graph_file = astro_graph_file.copy()\n",
    "astro_nonuenutau_graph_file['analysis']['astro_nutau_ratio'] = 0.0\n",
    "astro_nonuenutau_graph_file['analysis']['astro_nue_ratio'] = 0.0\n"
   ]
  },
  {
   "cell_type": "code",
   "execution_count": 112,
   "id": "d682fadd",
   "metadata": {},
   "outputs": [],
   "source": [
    "component_graphdict = {'astro_allflavor':astro_graph_file,\n",
    "                       'astro_nonue':astro_nonue_graph_file,\n",
    "                       'astro_nonutau':astro_nonue_graph_file,\n",
    "                       'astro_nonuenutau':astro_nonuenutau_graph_file,\n",
    "                       'conv':conv_graph_file,\n",
    "                       'prompt':None,'muon':None}"
   ]
  },
  {
   "cell_type": "code",
   "execution_count": 105,
   "id": "a1686076",
   "metadata": {},
   "outputs": [],
   "source": [
    "params_all_zero = {\n",
    "    # atmospheric flux parameters\n",
    "    'conv_norm': 0.0,\n",
    "    'prompt_norm': 0.0,\n",
    "    'delta_gamma': 0.0,\n",
    "    'CR_grad': 0.0,\n",
    "    'barr_h': 0.0,\n",
    "    'barr_w': 0.0,\n",
    "    'barr_z': 0.0,\n",
    "    'barr_y': 0.0,\n",
    "\n",
    "    \n",
    "    # astro flux: default (generic) SPL\n",
    "    'astro_norm': 0.0,\n",
    "    'gamma_astro': 2.8429418575098397,\n",
    "    'astro_nue_ratio': 1.0,\n",
    "    'astro_nutau_ratio': 1.0,\n",
    "    'inel_scale':0.0,\n",
    "    'muongun_norm':0.0,\n",
    "    \n",
    "# # #     #snow storm parameters\n",
    "    'dom_eff': 1.043904437153759,\n",
    " 'ice_abs': 0.9885817135163371,\n",
    " 'ice_aniso': 0.9076585570846607,\n",
    " 'ice_holep0': -0.26734101032284746,\n",
    " 'ice_holep1': -0.08416403190869036,\n",
    " 'ice_scat': 0.9794450117263607,\n",
    "\n",
    "    \n",
    "}"
   ]
  },
  {
   "cell_type": "code",
   "execution_count": 13,
   "id": "1c4e8623",
   "metadata": {},
   "outputs": [],
   "source": [
    "# param_input_dict = param_input_file['fit-result'][1]"
   ]
  },
  {
   "cell_type": "code",
   "execution_count": 10,
   "id": "5d1be025",
   "metadata": {},
   "outputs": [],
   "source": [
    "plot_dir = \"/data/user/tvaneede/GlobalFit/analysis/icrc_checks\""
   ]
  },
  {
   "cell_type": "code",
   "execution_count": 15,
   "id": "acdfdc3c",
   "metadata": {},
   "outputs": [],
   "source": [
    "plot_data_mc?"
   ]
  },
  {
   "cell_type": "code",
   "execution_count": 11,
   "id": "09ac9ca7",
   "metadata": {},
   "outputs": [],
   "source": [
    "sys.path.append( \"/data/user/tvaneede/GlobalFit/analysis/icrc_checks\" )\n"
   ]
  },
  {
   "cell_type": "code",
   "execution_count": 140,
   "id": "4542e5a9",
   "metadata": {},
   "outputs": [],
   "source": [
    "from utils.data_mc_plots_from_fit import plot_data_mc_single_fit as plot_data_mc\n"
   ]
  },
  {
   "cell_type": "code",
   "execution_count": 84,
   "id": "c75acacf",
   "metadata": {},
   "outputs": [
    {
     "data": {
      "text/plain": [
       "dict_keys(['astro_allflavor', 'astro_nonue', 'astro_nonutau', 'astro_nonuenutau', 'conv', 'prompt', 'muon'])"
      ]
     },
     "execution_count": 84,
     "metadata": {},
     "output_type": "execute_result"
    }
   ],
   "source": [
    "component_graphdict.keys()"
   ]
  },
  {
   "cell_type": "code",
   "execution_count": 141,
   "id": "cba996a7",
   "metadata": {
    "scrolled": false
   },
   "outputs": [
    {
     "name": "stdout",
     "output_type": "stream",
     "text": [
      "doing this???\n",
      "doing this?\n",
      "component_graphdict dict_keys(['astro_allflavor', 'astro_nonue', 'astro_nonutau', 'astro_nonuenutau', 'conv', 'prompt', 'muon'])\n",
      "get_evaled_components params_all_zero {'conv_norm': 0.0, 'prompt_norm': 0.0, 'delta_gamma': 0.0, 'CR_grad': 0.0, 'barr_h': 0.0, 'barr_w': 0.0, 'barr_z': 0.0, 'barr_y': 0.0, 'astro_norm': 0.0, 'gamma_astro': 2.8429418575098397, 'astro_nue_ratio': 1.0, 'astro_nutau_ratio': 1.0, 'inel_scale': 0.0, 'muongun_norm': 0.0, 'ice_abs': 1.0, 'ice_scat': 1.0, 'ice_aniso': 1.0, 'ice_holep0': -0.27, 'ice_holep1': -0.042, 'dom_eff': 1.043904437153759}\n",
      "generating histogram for astro_allflavor component with following values\n",
      "{'conv_norm': 0.0, 'prompt_norm': 0.0, 'delta_gamma': 0.0, 'CR_grad': 0.0, 'barr_h': 0.0, 'barr_w': 0.0, 'barr_z': 0.0, 'barr_y': 0.0, 'astro_norm': 2.5277852222696753, 'gamma_astro': 2.8429418575098397, 'astro_nue_ratio': 0.45232987213122944, 'astro_nutau_ratio': 0.8963998364159318, 'inel_scale': 0.999950692509751, 'muongun_norm': 0.0, 'ice_abs': 1.0, 'ice_scat': 1.0, 'ice_aniso': 1.0, 'ice_holep0': -0.27, 'ice_holep1': -0.042, 'dom_eff': 1.043904437153759}\n",
      "generating histogram for astro_nonue component with following values\n",
      "{'conv_norm': 0.0, 'prompt_norm': 0.0, 'delta_gamma': 0.0, 'CR_grad': 0.0, 'barr_h': 0.0, 'barr_w': 0.0, 'barr_z': 0.0, 'barr_y': 0.0, 'astro_norm': 2.5277852222696753, 'gamma_astro': 2.8429418575098397, 'astro_nue_ratio': 0.45232987213122944, 'astro_nutau_ratio': 0.8963998364159318, 'inel_scale': 0.999950692509751, 'muongun_norm': 0.0, 'ice_abs': 1.0, 'ice_scat': 1.0, 'ice_aniso': 1.0, 'ice_holep0': -0.27, 'ice_holep1': -0.042, 'dom_eff': 1.043904437153759}\n",
      "generating histogram for astro_nonutau component with following values\n",
      "{'conv_norm': 0.0, 'prompt_norm': 0.0, 'delta_gamma': 0.0, 'CR_grad': 0.0, 'barr_h': 0.0, 'barr_w': 0.0, 'barr_z': 0.0, 'barr_y': 0.0, 'astro_norm': 2.5277852222696753, 'gamma_astro': 2.8429418575098397, 'astro_nue_ratio': 0.45232987213122944, 'astro_nutau_ratio': 0.8963998364159318, 'inel_scale': 0.999950692509751, 'muongun_norm': 0.0, 'ice_abs': 1.0, 'ice_scat': 1.0, 'ice_aniso': 1.0, 'ice_holep0': -0.27, 'ice_holep1': -0.042, 'dom_eff': 1.043904437153759}\n",
      "generating histogram for astro_nonuenutau component with following values\n",
      "{'conv_norm': 0.0, 'prompt_norm': 0.0, 'delta_gamma': 0.0, 'CR_grad': 0.0, 'barr_h': 0.0, 'barr_w': 0.0, 'barr_z': 0.0, 'barr_y': 0.0, 'astro_norm': 2.5277852222696753, 'gamma_astro': 2.8429418575098397, 'astro_nue_ratio': 0.45232987213122944, 'astro_nutau_ratio': 0.8963998364159318, 'inel_scale': 0.999950692509751, 'muongun_norm': 0.0, 'ice_abs': 1.0, 'ice_scat': 1.0, 'ice_aniso': 1.0, 'ice_holep0': -0.27, 'ice_holep1': -0.042, 'dom_eff': 1.043904437153759}\n",
      "generating histogram for conv component with following values\n",
      "{'conv_norm': 0.9955774852653808, 'prompt_norm': 0.0, 'delta_gamma': -0.00012043215168910682, 'CR_grad': 0.04816420768006666, 'barr_h': -3.603662184955879e-05, 'barr_w': -0.001794286951860185, 'barr_z': -0.004247966017242478, 'barr_y': -0.01004913618573267, 'astro_norm': 0.0, 'gamma_astro': 2.8429418575098397, 'astro_nue_ratio': 1.0, 'astro_nutau_ratio': 1.0, 'inel_scale': 0.999950692509751, 'muongun_norm': 0.0, 'ice_abs': 1.0, 'ice_scat': 1.0, 'ice_aniso': 1.0, 'ice_holep0': -0.27, 'ice_holep1': -0.042, 'dom_eff': 1.043904437153759}\n",
      "generating histogram for prompt component with following values\n",
      "{'conv_norm': 0.0, 'prompt_norm': 0.0, 'delta_gamma': -0.00012043215168910682, 'CR_grad': 0.04816420768006666, 'barr_h': 0.0, 'barr_w': 0.0, 'barr_z': 0.0, 'barr_y': 0.0, 'astro_norm': 0.0, 'gamma_astro': 2.8429418575098397, 'astro_nue_ratio': 1.0, 'astro_nutau_ratio': 1.0, 'inel_scale': 0.999950692509751, 'muongun_norm': 0.0, 'ice_abs': 1.0, 'ice_scat': 1.0, 'ice_aniso': 1.0, 'ice_holep0': -0.27, 'ice_holep1': -0.042, 'dom_eff': 1.043904437153759}\n",
      "Skipping component muon for plotting det conf IC86_pass2_SnowStorm_v2_Bfr_DoubleCascades\n",
      "DataMC_IC86_pass2_SnowStorm_v2_Bfr_DoubleCascades /data/user/tvaneede/GlobalFit/analysis/icrc_checks\n"
     ]
    },
    {
     "name": "stderr",
     "output_type": "stream",
     "text": [
      "/mnt/ceph1-npx/user/tvaneede/GlobalFit/analysis/icrc_checks/utils/data_mc_plots_from_fit.py:138: UserWarning: You passed a edgecolor/edgecolors ('k') for an unfilled marker ('1').  Matplotlib is ignoring the edgecolor in favor of the facecolor.  This behavior may change in the future.\n",
      "  ax.scatter(data_l,data_e,marker='1',s=160,facecolor='k',edgecolor='k',label='Data events')\n"
     ]
    },
    {
     "data": {
      "image/png": "[encoded data removed]",
      "text/plain": [
       "<Figure size 1000x600 with 2 Axes>"
      ]
     },
     "metadata": {},
     "output_type": "display_data"
    }
   ],
   "source": [
    "components,res = plot_data_mc(fit_res_file=fit_file,plot_components=True,\\\n",
    "             perbin_plots=True,params_all_zero=params_all_zero,\n",
    "             component_graphdict=component_graphdict,plot_dir=plot_dir,plot_name='DataMC')"
   ]
  },
  {
   "cell_type": "code",
   "execution_count": 143,
   "id": "e48bccd6",
   "metadata": {},
   "outputs": [
    {
     "name": "stdout",
     "output_type": "stream",
     "text": [
      "lets check components\n",
      "sum_conv 0.3402475737865979\n",
      "sum_prompt 0.11034184533468942\n",
      "sum_astro_allflavor 3.809651329616353\n",
      "lets compare the plot with the components\n",
      "4.1059627524786455 4.26024074873764\n",
      "lets check astro flavor components\n",
      "sum_astro_allflavor 3.809651329616353\n",
      "sum_astro_numu+sum_astro_nue+sum_astro_nutau 3.809651329616353\n"
     ]
    }
   ],
   "source": [
    "sum_conv = sum(sum(components[\"hists\"]['conv']['mu']))\n",
    "sum_prompt = sum(sum(components[\"hists\"]['prompt']['mu']))\n",
    "sum_astro_allflavor = sum(sum(components[\"hists\"][\"astro_allflavor\"][\"mu\"]))\n",
    "sum_astro_nonue = sum(sum(components[\"hists\"][\"astro_nonue\"][\"mu\"]))\n",
    "sum_astro_nonutau = sum(sum(components[\"hists\"][\"astro_nonutau\"][\"mu\"]))\n",
    "sum_astro_nonuenutau = sum(sum(components[\"hists\"][\"astro_nonuenutau\"][\"mu\"]))\n",
    "sum_astro_numu = sum_astro_nonuenutau\n",
    "sum_astro_nue = sum_astro_nonutau - sum_astro_numu\n",
    "sum_astro_nutau = sum_astro_nonue - sum_astro_numu\n",
    "\n",
    "sum_res = sum(sum((res[\"mu\"])))\n",
    "\n",
    "print(\"lets check components\")\n",
    "print(\"sum_conv\", sum_conv)\n",
    "print(\"sum_prompt\", sum_prompt)\n",
    "print(\"sum_astro_allflavor\", sum_astro_allflavor)\n",
    "\n",
    "print(\"lets compare the plot with the components\")\n",
    "print(sum_res, sum_conv+sum_prompt+sum_astro_allflavor)\n",
    "\n",
    "print(\"lets check astro flavor components\")\n",
    "print(\"sum_astro_allflavor\", sum_astro_allflavor)\n",
    "print(\"sum_astro_numu+sum_astro_nue+sum_astro_nutau\", sum_astro_numu+sum_astro_nue+sum_astro_nutau)\n",
    "\n"
   ]
  },
  {
   "cell_type": "code",
   "execution_count": 139,
   "id": "c6063418",
   "metadata": {},
   "outputs": [
    {
     "data": {
      "text/plain": [
       "10"
      ]
     },
     "execution_count": 139,
     "metadata": {},
     "output_type": "execute_result"
    }
   ],
   "source": [
    "len(components[\"hists\"][\"astro_allflavor\"][\"mu\"][0])"
   ]
  },
  {
   "cell_type": "code",
   "execution_count": 155,
   "id": "8492dc1b",
   "metadata": {},
   "outputs": [],
   "source": [
    "# manual check\n",
    "from NNMFit import AnalysisConfig\n",
    "from NNMFit.utilities.readout_graphs import HistogramGraph\n",
    "from NNMFit.core.nnm_fitter import NNMFitter\n",
    "from NNMFit.utilities import override_dict_entries, load_pickle\n",
    "\n",
    "import yaml"
   ]
  },
  {
   "cell_type": "code",
   "execution_count": 157,
   "id": "a3718b98",
   "metadata": {},
   "outputs": [],
   "source": [
    "fit_res_file = '/data/ana/Diffuse/GlobalFit_Flavor/FitResults/Data/HESE12/SPL/SAY/LvsE_largebins/kdefits/with_mgunprior/with_double_gradients/prioronholeice/Freefit_05.pickle'\n",
    "fit_res = pd.read_pickle(fit_res_file)\n",
    "\n",
    "# read fit config from scan dir\n",
    "fit_config_file = os.path.join(\n",
    "    os.path.dirname(fit_res_file), 'Fit_Configuration.yaml'\n",
    ")\n",
    "\n",
    "with open(fit_config_file) as hdl:\n",
    "    fit_config = yaml.safe_load(hdl)\n",
    "\n",
    "config_hdl = AnalysisConfig.from_dict(fit_config)\n",
    "config_dict = config_hdl.to_dict()\n",
    "\n",
    "\n",
    "hist_graph = HistogramGraph.from_configdict(config_dict)\n",
    "\n",
    "nnmfitter = NNMFitter(config_hdl)\n",
    "data = nnmfitter.get_data_hists(as_array=True)"
   ]
  },
  {
   "cell_type": "code",
   "execution_count": 161,
   "id": "abf57eff",
   "metadata": {},
   "outputs": [],
   "source": [
    "det_conf = 'IC86_pass2_SnowStorm_v2_Bfr_DoubleCascades'\n",
    "\n",
    "temp = hist_graph.get_binning(det_conf)\n",
    "\n",
    "bins_energy = temp[\"reco_energy\"]\n",
    "bins_length = temp[\"reco_length\"]\n"
   ]
  },
  {
   "cell_type": "code",
   "execution_count": null,
   "id": "84ce2a48",
   "metadata": {},
   "outputs": [],
   "source": [
    "param_values = {}\n",
    "\n",
    "param_values['best_fit'] = dict(fit_res['fit-result'][1])\n",
    "# take into account fixed paratmeters\n",
    "param_values['best_fit'].update(fit_res['fixed-parameters'])\n",
    "\n",
    "fit_params = param_values['best_fit']"
   ]
  },
  {
   "cell_type": "code",
   "execution_count": 175,
   "id": "7fff2635",
   "metadata": {},
   "outputs": [],
   "source": [
    "scenarios = {\n",
    "    'all' : {},\n",
    "    'nothing' : {'conv_norm' : 0, \"prompt_norm\" : 0, \"muongun_norm\" : 0, \"astro_norm\" : 0, \"astro_nue_ratio\" : 0, \"astro_nutau_ratio\" : 0},\n",
    "    'astro_allflavor' : {'conv_norm' : 0, \"prompt_norm\" : 0, \"muongun_norm\" : 0},\n",
    "    'astro_nonue' : {'conv_norm' : 0, \"prompt_norm\" : 0, \"muongun_norm\" : 0, \"astro_nue_ratio\" : 0},\n",
    "    'astro_nonutau' : {'conv_norm' : 0, \"prompt_norm\" : 0, \"muongun_norm\" : 0, \"astro_nutau_ratio\" : 0},\n",
    "    'astro_nonuenutau' : {'conv_norm' : 0, \"prompt_norm\" : 0, \"muongun_norm\" : 0, \"astro_nue_ratio\" : 0, \"astro_nutau_ratio\" : 0},\n",
    "    'conv' :  {'astro_norm' : 0, \"prompt_norm\" : 0, \"muongun_norm\" : 0}, \n",
    "    'prompt' : {'astro_norm' : 0, \"conv_norm\" : 0, \"muongun_norm\" : 0}, \n",
    "    'muon' : {'conv_norm' : 0, \"prompt_norm\" : 0, \"astro_norm\" : 0}\n",
    "}"
   ]
  },
  {
   "cell_type": "code",
   "execution_count": 176,
   "id": "5703c8bd",
   "metadata": {},
   "outputs": [
    {
     "name": "stdout",
     "output_type": "stream",
     "text": [
      "scenario_name all 4.1059627524786455\n",
      "scenario_name nothing 0.43153102861005915\n",
      "scenario_name astro_allflavor 3.903502765732641\n",
      "scenario_name astro_nonue 3.440278678097927\n",
      "scenario_name astro_nonutau 1.0944517623861225\n",
      "scenario_name astro_nonuenutau 0.675351126326679\n",
      "scenario_name conv 0.580221752973498\n",
      "scenario_name prompt 0.43153102861005915\n",
      "scenario_name muon 0.43153102861005915\n"
     ]
    }
   ],
   "source": [
    "results = {}\n",
    "\n",
    "for scenario_name in scenarios:\n",
    "\n",
    "    override_dict = scenarios[scenario_name]\n",
    "\n",
    "    fit_params_tmp = fit_params.copy()\n",
    "\n",
    "    for key in override_dict: fit_params_tmp[key] = override_dict[key]\n",
    "\n",
    "    # pseudoexp bestfit\n",
    "    res = hist_graph.get_evaled_histogram(\n",
    "        det_config=det_conf, input_variables=fit_params_tmp, reshape=True\n",
    "    )\n",
    "\n",
    "    results[scenario_name] = sum(sum(res[\"mu\"]))\n",
    "\n",
    "    print(\"scenario_name\", scenario_name, results[scenario_name])"
   ]
  },
  {
   "cell_type": "code",
   "execution_count": 169,
   "id": "45026e3e",
   "metadata": {},
   "outputs": [
    {
     "data": {
      "text/plain": [
       "{'astro_norm': 2.5277852222696753,\n",
       " 'astro_nue_ratio': 0.45232987213122944,\n",
       " 'astro_nutau_ratio': 0.8963998364159318,\n",
       " 'gamma_astro': 2.8429418575098397,\n",
       " 'inel_scale': 0.999950692509751,\n",
       " 'CR_grad': 0.04816420768006666,\n",
       " 'barr_h': -3.603662184955879e-05,\n",
       " 'barr_w': -0.001794286951860185,\n",
       " 'barr_y': -0.01004913618573267,\n",
       " 'barr_z': -0.004247966017242478,\n",
       " 'conv_norm': 0.9955774852653808,\n",
       " 'delta_gamma': -0.00012043215168910682,\n",
       " 'prompt_norm': 0.0,\n",
       " 'muongun_norm': 1.1596479279870846,\n",
       " 'dom_eff': 1.043904437153759,\n",
       " 'ice_abs': 0.9885817135163371,\n",
       " 'ice_scat': 0.9794450117263607,\n",
       " 'ice_holep0': -0.26734101032284746,\n",
       " 'ice_holep1': -0.08416403190869036,\n",
       " 'ice_aniso': 0.9076585570846607}"
      ]
     },
     "execution_count": 169,
     "metadata": {},
     "output_type": "execute_result"
    }
   ],
   "source": [
    "fit_params"
   ]
  },
  {
   "cell_type": "code",
   "execution_count": null,
   "id": "e635ea1b",
   "metadata": {},
   "outputs": [
    {
     "data": {
      "text/plain": [
       "4.1059627524786455"
      ]
     },
     "execution_count": 167,
     "metadata": {},
     "output_type": "execute_result"
    }
   ],
   "source": []
  }
 ],
 "metadata": {
  "kernelspec": {
   "display_name": "py3-v4.2.1_nnmfit-v0.3.0",
   "language": "python",
   "name": "python3"
  },
  "language_info": {
   "codemirror_mode": {
    "name": "ipython",
    "version": 3
   },
   "file_extension": ".py",
   "mimetype": "text/x-python",
   "name": "python",
   "nbconvert_exporter": "python",
   "pygments_lexer": "ipython3",
   "version": "3.10.2"
  }
 },
 "nbformat": 4,
 "nbformat_minor": 5
}
