{
 "cells": [
  {
   "cell_type": "code",
   "execution_count": 19,
   "id": "0f742e65",
   "metadata": {},
   "outputs": [],
   "source": [
    "import sys, os\n",
    "import pandas as pd\n"
   ]
  },
  {
   "cell_type": "code",
   "execution_count": 20,
   "id": "2a5b6e0e",
   "metadata": {},
   "outputs": [
    {
     "name": "stdout",
     "output_type": "stream",
     "text": [
      "The autoreload extension is already loaded. To reload it, use:\n",
      "  %reload_ext autoreload\n"
     ]
    }
   ],
   "source": [
    "%load_ext autoreload"
   ]
  },
  {
   "cell_type": "code",
   "execution_count": 21,
   "id": "35dfa598",
   "metadata": {},
   "outputs": [],
   "source": [
    "%autoreload 2"
   ]
  },
  {
   "cell_type": "code",
   "execution_count": 4,
   "id": "6123ef1c",
   "metadata": {},
   "outputs": [
    {
     "name": "stdout",
     "output_type": "stream",
     "text": [
      "/mnt/ceph1-npx/user/nlad/NNMFitStuff\n"
     ]
    },
    {
     "name": "stderr",
     "output_type": "stream",
     "text": [
      "/home/nlad/NNMFit_venv_test/lib/python3.10/site-packages/IPython/core/magics/osm.py:417: UserWarning: This is now an optional IPython functionality, setting dhist requires you to install the `pickleshare` library.\n",
      "  self.shell.db['dhist'] = compress_dhist(dhist)[-100:]\n"
     ]
    }
   ],
   "source": [
    "%cd ../../"
   ]
  },
  {
   "cell_type": "code",
   "execution_count": 5,
   "id": "5f5ee7bb",
   "metadata": {},
   "outputs": [],
   "source": []
  },
  {
   "cell_type": "code",
   "execution_count": 6,
   "id": "bd6d8df1",
   "metadata": {},
   "outputs": [],
   "source": [
    "#plot_data_mc?"
   ]
  },
  {
   "cell_type": "code",
   "execution_count": 22,
   "id": "fec54324",
   "metadata": {},
   "outputs": [],
   "source": [
    "###for LvsE\n",
    "#fit_file = '/data/ana/Diffuse/GlobalFit_Flavor/FitResults/HESE12/SPL/SAY/LvsE_prior3Syst/Freefit_04.pickle'\n",
    "\n",
    "####for 3D\n",
    "fit_file = '/data/ana/Diffuse/GlobalFit_Flavor/FitResults/Data/HESE12/SPL/SAY/LvsE_largebins/kdefits/with_mgunprior/with_double_gradients/prioronholeice/Freefit_05.pickle'\n",
    "#fit_file = '/data/ana/Diffuse/GlobalFit_Flavor/FitResults/Data/HESE12/SPL/SAY/ParamScans/LvsE_largebins/allparams/FitRes_astro_nutau_ratio_p0_0000.pickle'"
   ]
  },
  {
   "cell_type": "code",
   "execution_count": 23,
   "id": "a80eda40",
   "metadata": {},
   "outputs": [],
   "source": [
    "#parm input file to check data/mc at a specific group of paramter values\n",
    "#in this case, a specific scan point on flavor triangle (very close to 1:1:1)\n",
    "#saved from one of the scan point fits of the 3D fit file\n",
    "\n",
    "param_input_file = pd.read_pickle(\n",
    "'/data/ana/Diffuse/GlobalFit_Flavor/FitResults/Data/HESE12/SPL/SAY/ParamScans/LvsE_largebins/allparams/FitRes_astro_nutau_ratio_p0_0000.pickle'\n",
    ")"
   ]
  },
  {
   "cell_type": "code",
   "execution_count": 9,
   "id": "aee5840d",
   "metadata": {},
   "outputs": [],
   "source": [
    "#param_input_dict = param_input_file.to_dict()"
   ]
  },
  {
   "cell_type": "code",
   "execution_count": 24,
   "id": "afce59c9",
   "metadata": {},
   "outputs": [],
   "source": [
    "astro_graph_file = pd.read_pickle(\n",
    "'/data/ana/Diffuse/GlobalFit_Flavor/NNMFit_Configs/Graphs/AstroOnlyGradientsGraph.pickle'\n",
    ")\n",
    "conv_graph_file = pd.read_pickle(\n",
    "'/data/ana/Diffuse/GlobalFit_Flavor/NNMFit_Configs/Graphs/ConvOnlyGradientsGraph.pickle'\n",
    ")\n",
    "\n",
    "# astro_graphdict = astro_graph_file.to_dict()\n",
    "# conv_graphdict = conv_graph_file.to_dict()"
   ]
  },
  {
   "cell_type": "code",
   "execution_count": 25,
   "id": "d682fadd",
   "metadata": {},
   "outputs": [],
   "source": [
    "component_graphdict = {'astro_allflavor':astro_graph_file,'conv':conv_graph_file,\n",
    "                      'prompt':None,'muon':None}"
   ]
  },
  {
   "cell_type": "code",
   "execution_count": 26,
   "id": "a1686076",
   "metadata": {},
   "outputs": [],
   "source": [
    "params_all_zero = {\n",
    "    # atmospheric flux parameters\n",
    "    'conv_norm': 0.0,\n",
    "    'prompt_norm': 0.0,\n",
    "    'delta_gamma': 0.0,\n",
    "    'CR_grad': 0.0,\n",
    "    'barr_h': 0.0,\n",
    "    'barr_w': 0.0,\n",
    "    'barr_z': 0.0,\n",
    "    'barr_y': 0.0,\n",
    "\n",
    "    \n",
    "    # astro flux: default (generic) SPL\n",
    "    'astro_norm': 0.0,\n",
    "    'gamma_astro': 2.8429418575098397,\n",
    "    'astro_nue_ratio': 1.0,\n",
    "    'astro_nutau_ratio': 1.0,\n",
    "    'inel_scale':0.0,\n",
    "    'muongun_norm':0.0,\n",
    "    \n",
    "# # #     #snow storm parameters\n",
    "    'dom_eff': 1.043904437153759,\n",
    " 'ice_abs': 0.9885817135163371,\n",
    " 'ice_aniso': 0.9076585570846607,\n",
    " 'ice_holep0': -0.26734101032284746,\n",
    " 'ice_holep1': -0.08416403190869036,\n",
    " 'ice_scat': 0.9794450117263607,\n",
    "\n",
    "    \n",
    "}"
   ]
  },
  {
   "cell_type": "code",
   "execution_count": 13,
   "id": "1c4e8623",
   "metadata": {},
   "outputs": [],
   "source": [
    "# param_input_dict = param_input_file['fit-result'][1]"
   ]
  },
  {
   "cell_type": "code",
   "execution_count": 27,
   "id": "5d1be025",
   "metadata": {},
   "outputs": [],
   "source": [
    "plot_dir = \"/data/user/tvaneede/GlobalFit/analysis/icrc_checks\""
   ]
  },
  {
   "cell_type": "code",
   "execution_count": 15,
   "id": "acdfdc3c",
   "metadata": {},
   "outputs": [],
   "source": [
    "plot_data_mc?"
   ]
  },
  {
   "cell_type": "code",
   "execution_count": 28,
   "id": "09ac9ca7",
   "metadata": {},
   "outputs": [],
   "source": [
    "sys.path.append( \"/data/user/tvaneede/GlobalFit/analysis/icrc_checks\" )\n"
   ]
  },
  {
   "cell_type": "code",
   "execution_count": null,
   "id": "cba996a7",
   "metadata": {
    "scrolled": false
   },
   "outputs": [],
   "source": [
    "from utils.data_mc_plots_from_fit import plot_data_mc_single_fit as plot_data_mc\n",
    "\n",
    "plot_data_mc(fit_res_file=fit_file,plot_components=True,\\\n",
    "             perbin_plots=True,params_all_zero=params_all_zero,\n",
    "             component_graphdict=component_graphdict,plot_dir=plot_dir,plot_name='DataMC')"
   ]
  }
 ],
 "metadata": {
  "kernelspec": {
   "display_name": "py3-v4.2.1_nnmfit-v0.3.0",
   "language": "python",
   "name": "python3"
  },
  "language_info": {
   "codemirror_mode": {
    "name": "ipython",
    "version": 3
   },
   "file_extension": ".py",
   "mimetype": "text/x-python",
   "name": "python",
   "nbconvert_exporter": "python",
   "pygments_lexer": "ipython3",
   "version": "3.10.2"
  }
 },
 "nbformat": 4,
 "nbformat_minor": 5
}
