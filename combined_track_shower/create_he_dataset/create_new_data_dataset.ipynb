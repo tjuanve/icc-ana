{
 "cells": [
  {
   "cell_type": "code",
   "execution_count": 1,
   "metadata": {},
   "outputs": [],
   "source": [
    "import numpy as np\n",
    "import pandas as pd"
   ]
  },
  {
   "cell_type": "code",
   "execution_count": 2,
   "metadata": {},
   "outputs": [],
   "source": [
    "file_path = \"/data/ana/Diffuse/GlobalFit/NNMFit/datasets/data/data_tracks.hdf\"\n",
    "\n",
    "df = pd.read_hdf(file_path)"
   ]
  },
  {
   "cell_type": "code",
   "execution_count": 3,
   "metadata": {},
   "outputs": [
    {
     "data": {
      "text/plain": [
       "Index(['energy_muex', 'energy_muex_exists', 'reco_dir_fit_status',\n",
       "       'reco_dir_exists', 'zenith_MPEFit', 'azimuth_MPEFit',\n",
       "       'energy_truncated_exists', 'energy_truncated',\n",
       "       'energy_truncated_fit_status', 'event_id', 'subevent_id', 'mjd',\n",
       "       'L5_bayes_llh_diff', 'L5_cog_rho', 'L5_cog_z', 'L5_cos_zenith',\n",
       "       'L5_ldir_c', 'L5_lseparation', 'L5_nch', 'L5_ndir_c', 'L5_rlogl',\n",
       "       'L5_sdir_e', 'L5_sigma_paraboloid', 'L5_Score', 'L5_CascScore',\n",
       "       'MCType'],\n",
       "      dtype='object')"
      ]
     },
     "execution_count": 3,
     "metadata": {},
     "output_type": "execute_result"
    }
   ],
   "source": [
    "df.keys()"
   ]
  },
  {
   "cell_type": "code",
   "execution_count": 7,
   "metadata": {},
   "outputs": [
    {
     "data": {
      "text/html": [
       "<div>\n",
       "<style scoped>\n",
       "    .dataframe tbody tr th:only-of-type {\n",
       "        vertical-align: middle;\n",
       "    }\n",
       "\n",
       "    .dataframe tbody tr th {\n",
       "        vertical-align: top;\n",
       "    }\n",
       "\n",
       "    .dataframe thead th {\n",
       "        text-align: right;\n",
       "    }\n",
       "</style>\n",
       "<table border=\"1\" class=\"dataframe\">\n",
       "  <thead>\n",
       "    <tr style=\"text-align: right;\">\n",
       "      <th></th>\n",
       "      <th></th>\n",
       "      <th></th>\n",
       "      <th>energy_muex</th>\n",
       "      <th>energy_muex_exists</th>\n",
       "      <th>reco_dir_fit_status</th>\n",
       "      <th>reco_dir_exists</th>\n",
       "      <th>zenith_MPEFit</th>\n",
       "      <th>azimuth_MPEFit</th>\n",
       "      <th>energy_truncated_exists</th>\n",
       "      <th>energy_truncated</th>\n",
       "      <th>energy_truncated_fit_status</th>\n",
       "      <th>event_id</th>\n",
       "      <th>...</th>\n",
       "      <th>L5_ldir_c</th>\n",
       "      <th>L5_lseparation</th>\n",
       "      <th>L5_nch</th>\n",
       "      <th>L5_ndir_c</th>\n",
       "      <th>L5_rlogl</th>\n",
       "      <th>L5_sdir_e</th>\n",
       "      <th>L5_sigma_paraboloid</th>\n",
       "      <th>L5_Score</th>\n",
       "      <th>L5_CascScore</th>\n",
       "      <th>MCType</th>\n",
       "    </tr>\n",
       "  </thead>\n",
       "  <tbody>\n",
       "    <tr>\n",
       "      <th>115986</th>\n",
       "      <th>3201</th>\n",
       "      <th>0</th>\n",
       "      <td>848.586872</td>\n",
       "      <td>1</td>\n",
       "      <td>0</td>\n",
       "      <td>1</td>\n",
       "      <td>1.570796</td>\n",
       "      <td>0.480986</td>\n",
       "      <td>1</td>\n",
       "      <td>230000000.0</td>\n",
       "      <td>0</td>\n",
       "      <td>3201</td>\n",
       "      <td>...</td>\n",
       "      <td>399.36086</td>\n",
       "      <td>326.138636</td>\n",
       "      <td>24.0</td>\n",
       "      <td>9.0</td>\n",
       "      <td>7.741166</td>\n",
       "      <td>-0.167322</td>\n",
       "      <td>0.425989</td>\n",
       "      <td>0.99991</td>\n",
       "      <td>0.924576</td>\n",
       "      <td>data</td>\n",
       "    </tr>\n",
       "  </tbody>\n",
       "</table>\n",
       "<p>1 rows × 26 columns</p>\n",
       "</div>"
      ],
      "text/plain": [
       "               energy_muex  energy_muex_exists  reco_dir_fit_status  \\\n",
       "115986 3201 0   848.586872                   1                    0   \n",
       "\n",
       "               reco_dir_exists  zenith_MPEFit  azimuth_MPEFit  \\\n",
       "115986 3201 0                1       1.570796        0.480986   \n",
       "\n",
       "               energy_truncated_exists  energy_truncated  \\\n",
       "115986 3201 0                        1       230000000.0   \n",
       "\n",
       "               energy_truncated_fit_status  event_id  ...  L5_ldir_c  \\\n",
       "115986 3201 0                            0      3201  ...  399.36086   \n",
       "\n",
       "               L5_lseparation  L5_nch  L5_ndir_c  L5_rlogl  L5_sdir_e  \\\n",
       "115986 3201 0      326.138636    24.0        9.0  7.741166  -0.167322   \n",
       "\n",
       "               L5_sigma_paraboloid  L5_Score  L5_CascScore  MCType  \n",
       "115986 3201 0             0.425989   0.99991      0.924576    data  \n",
       "\n",
       "[1 rows x 26 columns]"
      ]
     },
     "execution_count": 7,
     "metadata": {},
     "output_type": "execute_result"
    }
   ],
   "source": [
    "n_events = 1\n",
    "\n",
    "df_toy = df.iloc[:n_events].copy()\n",
    "\n",
    "df_toy\n",
    "i=0\n",
    "for index, row in df_toy.iterrows():\n",
    "    df_toy.at[index, 'energy_truncated'] = 230e6\n",
    "    df_toy.at[index, 'zenith_MPEFit'] = np.pi/2\n",
    "\n",
    "df_toy"
   ]
  },
  {
   "cell_type": "code",
   "execution_count": 8,
   "metadata": {},
   "outputs": [],
   "source": [
    "df_toy.to_parquet(\"/mnt/ceph1-npx/user/tvaneede/GlobalFit/analysis/combined_track_shower/create_he_dataset/output/dataset_he_event_230PeV_90deg.parquet\")"
   ]
  }
 ],
 "metadata": {
  "kernelspec": {
   "display_name": "py3-v4.2.1_nnmfit-v0.3.0",
   "language": "python",
   "name": "python3"
  },
  "language_info": {
   "codemirror_mode": {
    "name": "ipython",
    "version": 3
   },
   "file_extension": ".py",
   "mimetype": "text/x-python",
   "name": "python",
   "nbconvert_exporter": "python",
   "pygments_lexer": "ipython3",
   "version": "3.10.2"
  }
 },
 "nbformat": 4,
 "nbformat_minor": 2
}
