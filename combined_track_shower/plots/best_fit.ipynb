{
 "cells": [
  {
   "cell_type": "code",
   "execution_count": 1,
   "metadata": {},
   "outputs": [],
   "source": [
    "import NNMFit\n",
    "import matplotlib.pyplot as plt\n",
    "import numpy as np\n",
    "import pandas as pd"
   ]
  },
  {
   "cell_type": "code",
   "execution_count": 4,
   "metadata": {},
   "outputs": [],
   "source": [
    "import matplotlib.font_manager as font_manager\n",
    "font_axis_label = {'family': 'serif',\n",
    "        'color':  'black',\n",
    "        'weight': 'normal',\n",
    "        'size': 22,\n",
    "        }\n",
    "font_title = {'family': 'serif',\n",
    "        'color':  'black',\n",
    "        'weight': 'bold',\n",
    "        'size': 20,\n",
    "        }\n",
    "font_legend = font_manager.FontProperties(family='serif',\n",
    "                                   weight='normal',\n",
    "                                   style='normal', size=13)\n",
    "\n",
    "plt.rcParams[\"figure.figsize\"] = (6,6)\n",
    "plt.rcParams.update({'font.family':'serif'})"
   ]
  },
  {
   "cell_type": "code",
   "execution_count": 3,
   "metadata": {},
   "outputs": [],
   "source": [
    "fit_res_dir_dict = {\n",
    "                 \"track_SAY\" : \"/data/user/tvaneede/GlobalFit/analysis/combined_track_shower/output/data_Tracks_SAY.pickle\",\n",
    "                 \"cscd_SAY\" : \"/data/user/tvaneede/GlobalFit/analysis/combined_track_shower/output/data_Cscd_SAY.pickle\",\n",
    "                 \"track_cscd_nohybrid_SAY\" : \"/data/user/tvaneede/GlobalFit/analysis/combined_track_shower/output/data_Tracks_Cscd_nohybrid_SAY.pickle\",\n",
    "                 \"track_cscd_SAY\" : \"/data/user/tvaneede/GlobalFit/analysis/combined_track_shower/output/data_Tracks_Cscd_SAY.pickle\",\n",
    "\n",
    "                 \"track_SAY_he_nominal\" : \"/data/user/tvaneede/GlobalFit/analysis/combined_track_shower/output/data_Tracks_SAY_he_nominal.pickle\",\n",
    "                 \"track_cscd_nohybrid_SAY_he_nominal\" : \"/data/user/tvaneede/GlobalFit/analysis/combined_track_shower/output/data_Tracks_Cscd_nohybrid_SAY_he_nominal_local.pickle\",\n",
    "\n",
    "                 }"
   ]
  },
  {
   "cell_type": "code",
   "execution_count": 5,
   "metadata": {},
   "outputs": [
    {
     "name": "stdout",
     "output_type": "stream",
     "text": [
      "track_SAY\n"
     ]
    },
    {
     "name": "stdout",
     "output_type": "stream",
     "text": [
      "norm 1.748063675275883 gamma 2.4396809047605923 chi2 4205.564784941955\n",
      "cscd_SAY\n",
      "norm 1.5953697373885176 gamma 2.585008753288956 chi2 240.43153732662867\n",
      "track_cscd_nohybrid_SAY\n",
      "norm 1.7755788207862448 gamma 2.526882998487011 chi2 4407.293163061194\n",
      "track_cscd_SAY\n",
      "norm 1.8669074110142572 gamma 2.5116981298688543 chi2 4459.4666720180985\n",
      "track_SAY_he_nominal\n",
      "norm 1.7049517411676396 gamma 2.3946196920922462 chi2 4218.334595170369\n",
      "track_cscd_nohybrid_SAY_he_nominal\n",
      "norm 1.795645668927821 gamma 2.5174099004674426 chi2 4420.721910363263\n"
     ]
    }
   ],
   "source": [
    "pickles = {}\n",
    "\n",
    "for name, pickle_file_path in fit_res_dir_dict.items():\n",
    "    print(name)\n",
    "    pickles[name] = pd.read_pickle(pickle_file_path)\n",
    "    print( \"norm\", pickles[name][\"fit-result\"][1][\"astro_norm\"],\n",
    "           \"gamma\",pickles[name][\"fit-result\"][1][\"gamma_astro\"],\n",
    "           \"chi2\", pickles[name][\"fit-result\"][0] )"
   ]
  },
  {
   "cell_type": "code",
   "execution_count": 7,
   "metadata": {},
   "outputs": [],
   "source": [
    "scan_dir_dict = {\n",
    "                ### best fit, should be richard naab\n",
    "                 \"track\" : \"/data/user/tvaneede/GlobalFit/analysis/combined_track_shower/create_dag/output/SAY/track_bestfit\",\n",
    "                #  \"cscd\" : \"/data/user/tvaneede/GlobalFit/analysis/combined_track_shower/create_dag/output/SAY/cscd_bestfit\",\n",
    "                 \"track_cscd_nohybrid\" : \"/data/user/tvaneede/GlobalFit/analysis/combined_track_shower/create_dag/output/SAY/track_cscd_nohybrid_bestfit\",\n",
    "                #  \"track_cscd\" : \"/data/user/tvaneede/GlobalFit/analysis/combined_track_shower/create_dag/output/SAY/track_cscd_bestfit\",\n",
    "\n",
    "                ### more points\n",
    "                #  \"track_morepoints\" : \"/data/user/tvaneede/GlobalFit/analysis/combined_track_shower/create_dag/output/SAY/track_bestfit_morepoints\",\n",
    "                #  \"track_cscd_nohybrid_morepoints\" : \"/data/user/tvaneede/GlobalFit/analysis/combined_track_shower/create_dag/output/SAY/track_cscd_nohybrid_bestfit_morepoints\",\n",
    "\n",
    "                ### adding he event\n",
    "                 \"track_he_nominal\" : \"/data/user/tvaneede/GlobalFit/analysis/combined_track_shower/create_dag/output/SAY/track_bestfit_morepoints\",\n",
    "                 \"track_cscd_he_nominal_nohybrid\" : \"/data/user/tvaneede/GlobalFit/analysis/combined_track_shower/create_dag/output/SAY/track_cscd_he_nominal_nohybrid_bestfit_morepoints\",\n",
    "                 }"
   ]
  },
  {
   "cell_type": "code",
   "execution_count": 8,
   "metadata": {},
   "outputs": [
    {
     "name": "stdout",
     "output_type": "stream",
     "text": [
      "track\n",
      "track_cscd_nohybrid\n",
      "track_he_nominal\n",
      "track_cscd_he_nominal_nohybrid\n"
     ]
    },
    {
     "ename": "ValueError",
     "evalue": "No objects to concatenate",
     "output_type": "error",
     "traceback": [
      "\u001b[0;31m---------------------------------------------------------------------------\u001b[0m",
      "\u001b[0;31mValueError\u001b[0m                                Traceback (most recent call last)",
      "Cell \u001b[0;32mIn[8], line 12\u001b[0m\n\u001b[1;32m     10\u001b[0m \u001b[38;5;28mprint\u001b[39m(name)\n\u001b[1;32m     11\u001b[0m \u001b[38;5;66;03m# use force_read if new scan points are produced\u001b[39;00m\n\u001b[0;32m---> 12\u001b[0m scan_dict[name] \u001b[38;5;241m=\u001b[39m \u001b[43mNNMFit\u001b[49m\u001b[38;5;241;43m.\u001b[39;49m\u001b[43mutilities\u001b[49m\u001b[38;5;241;43m.\u001b[39;49m\u001b[43mScanHandler\u001b[49m\u001b[43m(\u001b[49m\u001b[43mscan_dir\u001b[49m\u001b[43m,\u001b[49m\u001b[43mdump\u001b[49m\u001b[38;5;241;43m=\u001b[39;49m\u001b[38;5;28;43;01mFalse\u001b[39;49;00m\u001b[43m,\u001b[49m\u001b[43mdrop_unsuccessful\u001b[49m\u001b[38;5;241;43m=\u001b[39;49m\u001b[43mdrop_unsuccessful\u001b[49m\u001b[43m)\u001b[49m\n\u001b[1;32m     13\u001b[0m x[name], y[name], dllh[name] \u001b[38;5;241m=\u001b[39m scan_dict[name]\u001b[38;5;241m.\u001b[39mget_scan_xydllh(x\u001b[38;5;241m=\u001b[39m\u001b[38;5;124m\"\u001b[39m\u001b[38;5;124mastro_norm\u001b[39m\u001b[38;5;124m\"\u001b[39m,y\u001b[38;5;241m=\u001b[39m\u001b[38;5;124m\"\u001b[39m\u001b[38;5;124mgamma_astro\u001b[39m\u001b[38;5;124m\"\u001b[39m,interpolate\u001b[38;5;241m=\u001b[39m\u001b[38;5;28;01mTrue\u001b[39;00m, drop_unsuccessful\u001b[38;5;241m=\u001b[39mdrop_unsuccessful)\n",
      "File \u001b[0;32m/mnt/ceph1-npx/user/tvaneede/software/NNMFit/NNMFit/utilities/result_handlers.py:845\u001b[0m, in \u001b[0;36mScanHandler.__init__\u001b[0;34m(self, indir, force_read, dump, filename, alt_outdir, drop_unsuccessful)\u001b[0m\n\u001b[1;32m    824\u001b[0m \u001b[38;5;28;01mdef\u001b[39;00m \u001b[38;5;21m__init__\u001b[39m(\n\u001b[1;32m    825\u001b[0m     \u001b[38;5;28mself\u001b[39m,\n\u001b[1;32m    826\u001b[0m     indir,\n\u001b[0;32m   (...)\u001b[0m\n\u001b[1;32m    831\u001b[0m     drop_unsuccessful\u001b[38;5;241m=\u001b[39m\u001b[38;5;28;01mFalse\u001b[39;00m,\n\u001b[1;32m    832\u001b[0m ):\n\u001b[1;32m    833\u001b[0m \u001b[38;5;250m    \u001b[39m\u001b[38;5;124;03m\"\"\"\u001b[39;00m\n\u001b[1;32m    834\u001b[0m \u001b[38;5;124;03m    NNMFit Scan Handler\u001b[39;00m\n\u001b[1;32m    835\u001b[0m \n\u001b[0;32m   (...)\u001b[0m\n\u001b[1;32m    843\u001b[0m \u001b[38;5;124;03m        unsuccessful fits, by default False (=use all scan results).\u001b[39;00m\n\u001b[1;32m    844\u001b[0m \u001b[38;5;124;03m    \"\"\"\u001b[39;00m\n\u001b[0;32m--> 845\u001b[0m     \u001b[38;5;28;43msuper\u001b[39;49m\u001b[43m(\u001b[49m\u001b[43m)\u001b[49m\u001b[38;5;241;43m.\u001b[39;49m\u001b[38;5;21;43m__init__\u001b[39;49m\u001b[43m(\u001b[49m\n\u001b[1;32m    846\u001b[0m \u001b[43m        \u001b[49m\u001b[43mindir\u001b[49m\u001b[43m,\u001b[49m\u001b[43m \u001b[49m\u001b[43mforce_read\u001b[49m\u001b[43m,\u001b[49m\u001b[43m \u001b[49m\u001b[43mdump\u001b[49m\u001b[43m,\u001b[49m\u001b[43m \u001b[49m\u001b[43mfilename\u001b[49m\u001b[43m,\u001b[49m\u001b[43m \u001b[49m\u001b[43malt_outdir\u001b[49m\n\u001b[1;32m    847\u001b[0m \u001b[43m    \u001b[49m\u001b[43m)\u001b[49m\n\u001b[1;32m    848\u001b[0m     \u001b[38;5;28mself\u001b[39m\u001b[38;5;241m.\u001b[39m_drop_unsuccessful \u001b[38;5;241m=\u001b[39m drop_unsuccessful\n",
      "File \u001b[0;32m/mnt/ceph1-npx/user/tvaneede/software/NNMFit/NNMFit/utilities/result_handlers.py:191\u001b[0m, in \u001b[0;36mResultHandler.__init__\u001b[0;34m(self, indir, force_read, dump, filename, alt_outdir, is_pseudoexp)\u001b[0m\n\u001b[1;32m    188\u001b[0m     logger\u001b[38;5;241m.\u001b[39minfo(\u001b[38;5;124mf\u001b[39m\u001b[38;5;124m\"\u001b[39m\u001b[38;5;132;01m{\u001b[39;00mk\u001b[38;5;132;01m:\u001b[39;00m\u001b[38;5;124m24s\u001b[39m\u001b[38;5;132;01m}\u001b[39;00m\u001b[38;5;124m -> read \u001b[39m\u001b[38;5;132;01m{\u001b[39;00mv\u001b[38;5;132;01m:\u001b[39;00m\u001b[38;5;124m4d\u001b[39m\u001b[38;5;132;01m}\u001b[39;00m\u001b[38;5;124m files\u001b[39m\u001b[38;5;124m\"\u001b[39m)\n\u001b[1;32m    190\u001b[0m \u001b[38;5;66;03m# concat into MultiIndex DataFrame\u001b[39;00m\n\u001b[0;32m--> 191\u001b[0m df \u001b[38;5;241m=\u001b[39m \u001b[43mpd\u001b[49m\u001b[38;5;241;43m.\u001b[39;49m\u001b[43mconcat\u001b[49m\u001b[43m(\u001b[49m\u001b[43mscan_dict\u001b[49m\u001b[43m,\u001b[49m\u001b[43m \u001b[49m\u001b[43maxis\u001b[49m\u001b[38;5;241;43m=\u001b[39;49m\u001b[38;5;241;43m0\u001b[39;49m\u001b[43m,\u001b[49m\u001b[43m \u001b[49m\u001b[43msort\u001b[49m\u001b[38;5;241;43m=\u001b[39;49m\u001b[38;5;28;43;01mTrue\u001b[39;49;00m\u001b[43m)\u001b[49m\n\u001b[1;32m    193\u001b[0m \u001b[38;5;66;03m# save in ScanResult file\u001b[39;00m\n\u001b[1;32m    194\u001b[0m \u001b[38;5;28;01mif\u001b[39;00m dump:\n\u001b[1;32m    195\u001b[0m     \u001b[38;5;66;03m# dumping the \"dtype converted\" DataFrame will raise an error:\u001b[39;00m\n\u001b[1;32m    196\u001b[0m     \u001b[38;5;66;03m# TypeError: objects of type ``FloatingArray`` are not\u001b[39;00m\n\u001b[1;32m    197\u001b[0m     \u001b[38;5;66;03m# supported in this context, sorry; supported objects are:\u001b[39;00m\n\u001b[1;32m    198\u001b[0m     \u001b[38;5;66;03m# NumPy array, record or scalar; homogeneous list or tuple,\u001b[39;00m\n\u001b[1;32m    199\u001b[0m     \u001b[38;5;66;03m# integer, float, complex or bytes\u001b[39;00m\n",
      "File \u001b[0;32m/data/user/tvaneede/software/py_venvs/py3-v4.2.1_nnmfit-v0.3.0/lib/python3.10/site-packages/pandas/core/reshape/concat.py:382\u001b[0m, in \u001b[0;36mconcat\u001b[0;34m(objs, axis, join, ignore_index, keys, levels, names, verify_integrity, sort, copy)\u001b[0m\n\u001b[1;32m    379\u001b[0m \u001b[38;5;28;01melif\u001b[39;00m copy \u001b[38;5;129;01mand\u001b[39;00m using_copy_on_write():\n\u001b[1;32m    380\u001b[0m     copy \u001b[38;5;241m=\u001b[39m \u001b[38;5;28;01mFalse\u001b[39;00m\n\u001b[0;32m--> 382\u001b[0m op \u001b[38;5;241m=\u001b[39m \u001b[43m_Concatenator\u001b[49m\u001b[43m(\u001b[49m\n\u001b[1;32m    383\u001b[0m \u001b[43m    \u001b[49m\u001b[43mobjs\u001b[49m\u001b[43m,\u001b[49m\n\u001b[1;32m    384\u001b[0m \u001b[43m    \u001b[49m\u001b[43maxis\u001b[49m\u001b[38;5;241;43m=\u001b[39;49m\u001b[43maxis\u001b[49m\u001b[43m,\u001b[49m\n\u001b[1;32m    385\u001b[0m \u001b[43m    \u001b[49m\u001b[43mignore_index\u001b[49m\u001b[38;5;241;43m=\u001b[39;49m\u001b[43mignore_index\u001b[49m\u001b[43m,\u001b[49m\n\u001b[1;32m    386\u001b[0m \u001b[43m    \u001b[49m\u001b[43mjoin\u001b[49m\u001b[38;5;241;43m=\u001b[39;49m\u001b[43mjoin\u001b[49m\u001b[43m,\u001b[49m\n\u001b[1;32m    387\u001b[0m \u001b[43m    \u001b[49m\u001b[43mkeys\u001b[49m\u001b[38;5;241;43m=\u001b[39;49m\u001b[43mkeys\u001b[49m\u001b[43m,\u001b[49m\n\u001b[1;32m    388\u001b[0m \u001b[43m    \u001b[49m\u001b[43mlevels\u001b[49m\u001b[38;5;241;43m=\u001b[39;49m\u001b[43mlevels\u001b[49m\u001b[43m,\u001b[49m\n\u001b[1;32m    389\u001b[0m \u001b[43m    \u001b[49m\u001b[43mnames\u001b[49m\u001b[38;5;241;43m=\u001b[39;49m\u001b[43mnames\u001b[49m\u001b[43m,\u001b[49m\n\u001b[1;32m    390\u001b[0m \u001b[43m    \u001b[49m\u001b[43mverify_integrity\u001b[49m\u001b[38;5;241;43m=\u001b[39;49m\u001b[43mverify_integrity\u001b[49m\u001b[43m,\u001b[49m\n\u001b[1;32m    391\u001b[0m \u001b[43m    \u001b[49m\u001b[43mcopy\u001b[49m\u001b[38;5;241;43m=\u001b[39;49m\u001b[43mcopy\u001b[49m\u001b[43m,\u001b[49m\n\u001b[1;32m    392\u001b[0m \u001b[43m    \u001b[49m\u001b[43msort\u001b[49m\u001b[38;5;241;43m=\u001b[39;49m\u001b[43msort\u001b[49m\u001b[43m,\u001b[49m\n\u001b[1;32m    393\u001b[0m \u001b[43m\u001b[49m\u001b[43m)\u001b[49m\n\u001b[1;32m    395\u001b[0m \u001b[38;5;28;01mreturn\u001b[39;00m op\u001b[38;5;241m.\u001b[39mget_result()\n",
      "File \u001b[0;32m/data/user/tvaneede/software/py_venvs/py3-v4.2.1_nnmfit-v0.3.0/lib/python3.10/site-packages/pandas/core/reshape/concat.py:445\u001b[0m, in \u001b[0;36m_Concatenator.__init__\u001b[0;34m(self, objs, axis, join, keys, levels, names, ignore_index, verify_integrity, copy, sort)\u001b[0m\n\u001b[1;32m    442\u001b[0m \u001b[38;5;28mself\u001b[39m\u001b[38;5;241m.\u001b[39mverify_integrity \u001b[38;5;241m=\u001b[39m verify_integrity\n\u001b[1;32m    443\u001b[0m \u001b[38;5;28mself\u001b[39m\u001b[38;5;241m.\u001b[39mcopy \u001b[38;5;241m=\u001b[39m copy\n\u001b[0;32m--> 445\u001b[0m objs, keys \u001b[38;5;241m=\u001b[39m \u001b[38;5;28;43mself\u001b[39;49m\u001b[38;5;241;43m.\u001b[39;49m\u001b[43m_clean_keys_and_objs\u001b[49m\u001b[43m(\u001b[49m\u001b[43mobjs\u001b[49m\u001b[43m,\u001b[49m\u001b[43m \u001b[49m\u001b[43mkeys\u001b[49m\u001b[43m)\u001b[49m\n\u001b[1;32m    447\u001b[0m \u001b[38;5;66;03m# figure out what our result ndim is going to be\u001b[39;00m\n\u001b[1;32m    448\u001b[0m ndims \u001b[38;5;241m=\u001b[39m \u001b[38;5;28mself\u001b[39m\u001b[38;5;241m.\u001b[39m_get_ndims(objs)\n",
      "File \u001b[0;32m/data/user/tvaneede/software/py_venvs/py3-v4.2.1_nnmfit-v0.3.0/lib/python3.10/site-packages/pandas/core/reshape/concat.py:507\u001b[0m, in \u001b[0;36m_Concatenator._clean_keys_and_objs\u001b[0;34m(self, objs, keys)\u001b[0m\n\u001b[1;32m    504\u001b[0m     objs_list \u001b[38;5;241m=\u001b[39m \u001b[38;5;28mlist\u001b[39m(objs)\n\u001b[1;32m    506\u001b[0m \u001b[38;5;28;01mif\u001b[39;00m \u001b[38;5;28mlen\u001b[39m(objs_list) \u001b[38;5;241m==\u001b[39m \u001b[38;5;241m0\u001b[39m:\n\u001b[0;32m--> 507\u001b[0m     \u001b[38;5;28;01mraise\u001b[39;00m \u001b[38;5;167;01mValueError\u001b[39;00m(\u001b[38;5;124m\"\u001b[39m\u001b[38;5;124mNo objects to concatenate\u001b[39m\u001b[38;5;124m\"\u001b[39m)\n\u001b[1;32m    509\u001b[0m \u001b[38;5;28;01mif\u001b[39;00m keys \u001b[38;5;129;01mis\u001b[39;00m \u001b[38;5;28;01mNone\u001b[39;00m:\n\u001b[1;32m    510\u001b[0m     objs_list \u001b[38;5;241m=\u001b[39m \u001b[38;5;28mlist\u001b[39m(com\u001b[38;5;241m.\u001b[39mnot_none(\u001b[38;5;241m*\u001b[39mobjs_list))\n",
      "\u001b[0;31mValueError\u001b[0m: No objects to concatenate"
     ]
    }
   ],
   "source": [
    "drop_unsuccessful = True\n",
    "\n",
    "scan_dict = {}\n",
    "\n",
    "x = {}\n",
    "y = {}\n",
    "dllh = {}\n",
    "\n",
    "for name, scan_dir in scan_dir_dict.items():\n",
    "    print(name)\n",
    "    # use force_read if new scan points are produced\n",
    "    scan_dict[name] = NNMFit.utilities.ScanHandler(scan_dir,dump=False,drop_unsuccessful=drop_unsuccessful)\n",
    "    x[name], y[name], dllh[name] = scan_dict[name].get_scan_xydllh(x=\"astro_norm\",y=\"gamma_astro\",interpolate=True, drop_unsuccessful=drop_unsuccessful)"
   ]
  },
  {
   "cell_type": "code",
   "execution_count": null,
   "metadata": {},
   "outputs": [],
   "source": [
    "# levels = [2.3,5.99]  # 50% 1sigma (68%), 5.99 2sigma (95%)\n",
    "# levlabels = [\"68%\", \"95%\"]\n",
    "\n",
    "levels = [2.3]  # 50% 1sigma (68%), 5.99 2sigma (95%)\n",
    "levlabels = [\"68%\"]\n",
    "\n",
    "\n",
    "colors = [\"black\", \"red\", \"blue\", \"green\"]\n",
    "linestyles = [\"-\",\"--\"]\n",
    "\n",
    "fig, (ax) = plt.subplots(1, 1)\n",
    "\n",
    "ll, lh = [], []\n",
    "\n",
    "for index, key in enumerate(scan_dict):\n",
    "\n",
    "    cntr = ax.contour( x[key], y[key], dllh[key], \n",
    "                    levels=levels, colors=colors[index], linewidths=3.5, linestyles = linestyles )\n",
    "\n",
    "    # set the legend\n",
    "    h, _ = cntr.legend_elements()\n",
    "    for i in range(len(h)):\n",
    "        lh.append(h[i]) # legend elements\n",
    "        ll.append(f'{key}') # legend text\n",
    "\n",
    "for index, key in enumerate(fit_res_dir_dict):\n",
    "    norm = pickles[key][\"fit-result\"][1][\"astro_norm\"]\n",
    "    gamma = pickles[key][\"fit-result\"][1][\"gamma_astro\"]\n",
    "\n",
    "    ax.plot([norm], [gamma], \"*\", color=colors[index])\n",
    "\n",
    "ax.set_xlabel(r\"$\\Phi_0$\")\n",
    "ax.set_ylabel(r\"$\\gamma$\")\n",
    "\n",
    "\n",
    "\n",
    "l3 = ax.legend(lh,ll,loc = \"lower right\", title = \"Asimov sensitivity\",\n",
    "                ncols=1,frameon=True,fancybox=True,shadow=True)"
   ]
  }
 ],
 "metadata": {
  "kernelspec": {
   "display_name": "py3-v4.2.1_nnmfit-v0.3.0",
   "language": "python",
   "name": "python3"
  },
  "language_info": {
   "codemirror_mode": {
    "name": "ipython",
    "version": 3
   },
   "file_extension": ".py",
   "mimetype": "text/x-python",
   "name": "python",
   "nbconvert_exporter": "python",
   "pygments_lexer": "ipython3",
   "version": "3.10.2"
  }
 },
 "nbformat": 4,
 "nbformat_minor": 2
}
