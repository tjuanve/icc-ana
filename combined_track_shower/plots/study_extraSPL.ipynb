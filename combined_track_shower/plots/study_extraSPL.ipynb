{
 "cells": [
  {
   "cell_type": "code",
   "execution_count": 1,
   "metadata": {},
   "outputs": [],
   "source": [
    "import NNMFit\n",
    "import matplotlib.pyplot as plt\n",
    "import numpy as np\n",
    "import pandas as pd"
   ]
  },
  {
   "cell_type": "code",
   "execution_count": 2,
   "metadata": {},
   "outputs": [],
   "source": [
    "from scipy.interpolate import interp1d\n",
    "from scipy.optimize import root_scalar\n"
   ]
  },
  {
   "cell_type": "code",
   "execution_count": 3,
   "metadata": {},
   "outputs": [],
   "source": [
    "import matplotlib.font_manager as font_manager\n",
    "font_axis_label = {'family': 'serif',\n",
    "        'color':  'black',\n",
    "        'weight': 'normal',\n",
    "        'size': 22,\n",
    "        }\n",
    "font_title = {'family': 'serif',\n",
    "        'color':  'black',\n",
    "        'weight': 'bold',\n",
    "        'size': 20,\n",
    "        }\n",
    "font_legend = font_manager.FontProperties(family='serif',\n",
    "                                   weight='normal',\n",
    "                                   style='normal', size=13)\n",
    "\n",
    "plt.rcParams[\"figure.figsize\"] = (6,6)\n",
    "plt.rcParams.update({'font.family':'serif'})"
   ]
  },
  {
   "cell_type": "code",
   "execution_count": 4,
   "metadata": {},
   "outputs": [],
   "source": [
    "plotting_path = \"/data/user/tvaneede/GlobalFit/analysis/combined_track_shower/plots/output/extraSPL\"\n",
    "data_path = \"/data/user/tvaneede/GlobalFit/analysis/combined_track_shower/create_dag/output/extraSPL\"\n",
    "data_benchmark_path = \"/data/user/tvaneede/GlobalFit/analysis/combined_track_shower/create_dag/output/naab_ganster_override\""
   ]
  },
  {
   "cell_type": "code",
   "execution_count": 12,
   "metadata": {},
   "outputs": [],
   "source": [
    "scan_dir_dict = {\n",
    "                 ### Fitting an extra SPL, but excluding the astro component from the he datasets (I think wrong!!)\n",
    "                 \"SPL_he\" : f\"{data_path}/track_cscd_he_nominal_emptyICC_SPL_extraSPL\", # with he event\n",
    "                 \"BPL_he\" : f\"{data_path}/track_cscd_he_nominal_emptyICC_BPL_extraSPL\",\n",
    "\n",
    "                 ### not fitting extra component\n",
    "                 \"SPL_he_bench\" : f\"{data_benchmark_path}/track_cscd_he_nominal_emptyICC_SPL\", # with he event\n",
    "                 \"BPL_he_bench\" : f\"{data_benchmark_path}/track_cscd_he_nominal_emptyICC_BPL\",\n",
    "\n",
    "                 ###\n",
    "                 \"SPL_10_100PeV\" : f\"{data_path}/track_cscd_he_nominal_emptyICC_SPL_extraSPL_10_100PeV\", # with he event\n",
    "                 \"BPL_10_100PeV\" : f\"{data_path}/track_cscd_he_nominal_emptyICC_BPL_extraSPL_10_100PeV\", # with he event\n",
    "\n",
    "                 \"SPL_10_100PeV_scan\" : f\"{data_path}/scan_astro_he_norm/track_cscd_he_nominal_emptyICC_SPL_extraSPL_10_100PeV\", # with he event\n",
    "                 \"BPL_10_100PeV_scan\" : f\"{data_path}/scan_astro_he_norm/track_cscd_he_nominal_emptyICC_BPL_extraSPL_10_100PeV\", # with he event\n",
    "\n",
    "                 \"SPL_10_100PeV_bench\" : f\"{data_path}/track_cscd_he_nominal_emptyICC_SPL_10_100PeV\", # with he event\n",
    "                 \"BPL_10_100PeV_bench\" : f\"{data_path}/track_cscd_he_nominal_emptyICC_BPL_10_100PeV\", # with he event\n",
    "\n",
    "                 \"SPL_30_300PeV\" : f\"{data_path}/track_cscd_he_nominal_emptyICC_SPL_extraSPL_30_300PeV\", # with he event\n",
    "                 \"BPL_30_300PeV\" : f\"{data_path}/track_cscd_he_nominal_emptyICC_BPL_extraSPL_30_300PeV\", # with he event\n",
    "\n",
    "                 \"SPL_30_300PeV_bench\" : f\"{data_path}/track_cscd_he_nominal_emptyICC_SPL_30_300PeV\", # with he event\n",
    "                 \"BPL_30_300PeV_bench\" : f\"{data_path}/track_cscd_he_nominal_emptyICC_BPL_30_300PeV\", # with he event\n",
    "\n",
    "                 \"SPL_100_1000PeV\" : f\"{data_path}/track_cscd_he_nominal_emptyICC_SPL_extraSPL_100_1000PeV\", # with he event\n",
    "                 \"BPL_100_1000PeV\" : f\"{data_path}/track_cscd_he_nominal_emptyICC_BPL_extraSPL_100_1000PeV\", # with he event\n",
    "\n",
    "                 \"SPL_100_1000PeV_bench\" : f\"{data_path}/track_cscd_he_nominal_emptyICC_SPL_100_1000PeV\", # with he event\n",
    "                 \"BPL_100_1000PeV_bench\" : f\"{data_path}/track_cscd_he_nominal_emptyICC_BPL_100_1000PeV\", # with he event\n",
    "\n",
    "\n",
    "\n",
    "                 }"
   ]
  },
  {
   "cell_type": "code",
   "execution_count": 14,
   "metadata": {},
   "outputs": [
    {
     "name": "stdout",
     "output_type": "stream",
     "text": [
      "SPL_he\n",
      "BPL_he\n",
      "SPL_he_bench\n",
      "BPL_he_bench\n",
      "SPL_10_100PeV\n",
      "BPL_10_100PeV\n",
      "SPL_10_100PeV_scan\n",
      "BPL_10_100PeV_scan\n",
      "SPL_10_100PeV_bench\n",
      "BPL_10_100PeV_bench\n",
      "SPL_30_300PeV\n",
      "BPL_30_300PeV\n",
      "SPL_30_300PeV_bench\n",
      "BPL_30_300PeV_bench\n",
      "SPL_100_1000PeV\n",
      "BPL_100_1000PeV\n",
      "SPL_100_1000PeV_bench\n",
      "BPL_100_1000PeV_bench\n"
     ]
    }
   ],
   "source": [
    "drop_unsuccessful = True\n",
    "\n",
    "scan_dict = {}\n",
    "\n",
    "bestfits = {}\n",
    "\n",
    "for name, scan_dir in scan_dir_dict.items():\n",
    "    print(name)\n",
    "    # use force_read if new scan points are produced\n",
    "    scan_dict[name] = NNMFit.utilities.ScanHandler(scan_dir,dump=False,drop_unsuccessful=drop_unsuccessful)\n",
    "\n",
    "    if \"scan\" in name: continue\n",
    "    bestfits[name] = scan_dict[name].get_freefit(drop_unsuccessful=\"True\")\n",
    "\n"
   ]
  },
  {
   "cell_type": "code",
   "execution_count": 10,
   "metadata": {},
   "outputs": [],
   "source": [
    "def compare_fits( name1, name2, parameter, bins = 20, bin_low = -6, bin_high = -5.0 ):\n",
    "\n",
    "    binning = np.linspace(bin_low,bin_high,bins+1)\n",
    "\n",
    "    bestfit1 = bestfits[name1][parameter]\n",
    "    bestfit2 = bestfits[name2][parameter]\n",
    "\n",
    "    fig, (ax) = plt.subplots(1, 1)\n",
    "\n",
    "    ax.hist( scan_dict[name1].get_raw_df().loc[\"freefit\"][parameter], bins = binning, color = \"blue\", label = name1, alpha = 0.3 )\n",
    "    ax.hist( scan_dict[name2].get_raw_df().loc[\"freefit\"][parameter], bins = binning, color = \"red\", label = name2, alpha = 0.3 )\n",
    "    \n",
    "    ax.axvline(bestfit1, color=\"blue\", linestyle=\"--\", label=f\"Bestfit {bestfit1:.3f},\")\n",
    "    ax.axvline(bestfit2, color=\"red\", linestyle=\"--\", label=f\"Bestfit {bestfit2:.3f}\")\n",
    "\n",
    "    ax.set_title(f\"Comparing {name1} and {name2}\")\n",
    "\n",
    "    ax.set_xlabel(parameter)\n",
    "    ax.set_ylabel(\"Number of hits\")\n",
    "\n",
    "    ax.legend()\n",
    "    plt.savefig(f\"{plotting_path}/compare_fits_{name1}-{name1}_parameter-{parameter}.pdf\")\n",
    "\n",
    "## normal parameters\n",
    "# compare_fits(\"SPL_he\", \"SPL_he_bench\", \"astro_norm\", bins = 20, bin_low = 1.75, bin_high = 1.85)\n",
    "# compare_fits(\"SPL_he\", \"SPL_he_bench\", \"gamma_astro\", bins = 20, bin_low = 2.50, bin_high = 2.54)\n",
    "\n",
    "# compare_fits(\"BPL_he\", \"BPL_he_bench\", \"astro_norm\", bins = 20, bin_low = 1.75, bin_high = 1.85)\n",
    "# compare_fits(\"BPL_he\", \"BPL_he_bench\", \"e_break\", bins = 20, bin_low = 4, bin_high = 5)\n",
    "# compare_fits(\"BPL_he\", \"BPL_he_bench\", \"gamma_1\", bins = 20, bin_low = 1.2, bin_high = 1.4)\n",
    "# compare_fits(\"BPL_he\", \"BPL_he_bench\", \"gamma_2\", bins = 20, bin_low = 2.6, bin_high = 2.9)\n",
    "\n",
    "### bump parameters\n",
    "# compare_fits(\"SPL_he\", \"BPL_he\", \"astro_he_norm\", bins = 20, bin_low = 0, bin_high = 2)\n",
    "\n"
   ]
  },
  {
   "cell_type": "code",
   "execution_count": 12,
   "metadata": {},
   "outputs": [
    {
     "name": "stdout",
     "output_type": "stream",
     "text": [
      "   astro_norm   e_break   gamma_1  astro_he_norm          llh\n",
      "0    1.767092  4.389828  1.314153       0.031183   3594.23969\n",
      "1    1.764378  4.390599  1.312502       0.031181  3594.239867\n",
      "2    1.764511  4.390592  1.312739       0.031182  3594.239869\n",
      "3    1.764367  4.390594  1.312465       0.031183  3594.239867\n",
      "4     1.76708  4.389813  1.314081       0.031183   3594.23969\n",
      "5    1.767114  4.389861  1.314308       0.031183   3594.23969\n",
      "6    1.767114  4.389861  1.314309       0.031183   3594.23969\n",
      "7    1.767046  4.389861  1.314242       0.031183   3594.23969\n",
      "8    1.767127  4.389841  1.314225       0.031183   3594.23969\n",
      "9    1.767109  4.389853  1.314269       0.031183   3594.23969\n",
      "--------------------\n",
      "astro_norm         1.767114\n",
      "e_break            4.389861\n",
      "gamma_1            1.314308\n",
      "astro_he_norm      0.031183\n",
      "llh              3594.23969\n",
      "Name: 5, dtype: Float64\n",
      "   astro_norm   e_break   gamma_1   gamma_2          llh\n",
      "0    1.776386   4.36924  1.280601  2.699419  3597.906946\n",
      "1    1.776218  4.369031    1.2796  2.699363  3597.906945\n",
      "2    1.776216  4.369031  1.279598  2.699363  3597.906945\n",
      "3    1.776341  4.369203  1.280474  2.699418  3597.906946\n",
      "4    1.777129  4.369196  1.282146  2.699492  3597.908562\n",
      "5    1.776085  4.369028  1.279385  2.699363  3597.907035\n",
      "6    1.776216  4.369031  1.279601  2.699363  3597.906945\n",
      "7    1.776271  4.369022   1.27978  2.699315   3597.90737\n",
      "8    1.776228  4.369031  1.279634  2.699365  3597.906945\n",
      "9    1.776217   4.36903    1.2796  2.699362  3597.906945\n",
      "--------------------\n",
      "astro_norm       1.776217\n",
      "e_break           4.36903\n",
      "gamma_1            1.2796\n",
      "gamma_2          2.699362\n",
      "llh           3597.906945\n",
      "Name: 9, dtype: Float64\n"
     ]
    }
   ],
   "source": [
    "def obtain_fitlist( name, parameters ):\n",
    "\n",
    "    result =  f'{scan_dict[name].get_raw_df().loc[\"freefit\"][parameters]}\\n'\n",
    "\n",
    "    result+=20*\"-\" + \"\\n\"\n",
    "\n",
    "    result+= f\"{bestfits[name][parameters]}\"\n",
    "    return result\n",
    "\n",
    "# print( obtain_fitlist( \"SPL_he\", [\"astro_norm\", \"gamma_astro\", \"astro_he_norm\", \"llh\"] ) )\n",
    "print( obtain_fitlist( \"BPL_he\", [\"astro_norm\", \"e_break\", \"gamma_1\", \"astro_he_norm\", \"llh\"] ) )\n",
    "\n",
    "# print( obtain_fitlist( \"SPL_he_bench\", [\"astro_norm\", \"gamma_astro\", \"llh\"] ) )\n",
    "print( obtain_fitlist( \"BPL_he_bench\", [\"astro_norm\", \"e_break\", \"gamma_1\", \"gamma_2\", \"llh\"] ) )\n",
    "\n"
   ]
  },
  {
   "cell_type": "code",
   "execution_count": null,
   "metadata": {},
   "outputs": [],
   "source": [
    "\n",
    "root_1_sigma = 1.0\n",
    "\n",
    "def find_errors( name ):\n",
    "\n",
    "    print(5*\"-\", name)\n",
    "\n",
    "    parameters = scan_dict[name].get_scan_list()\n",
    "\n",
    "    for parameter in parameters:\n",
    "\n",
    "        if parameter == \"freefit\": continue\n",
    "\n",
    "        print(parameter)\n",
    "\n",
    "        # best fit\n",
    "        print(\"bestfit\", bestfits[name][parameter])\n",
    "\n",
    "        scan = scan_dict[name].get_scan_df( param_name = parameter, drop_unsuccessful = drop_unsuccessful)\n",
    "\n",
    "        interpolator_dllh = interp1d(scan[parameter], scan[\"dllh\"], kind='linear', fill_value=\"extrapolate\")\n",
    "\n",
    "        # Define a function to find the points where dllh = 0.5\n",
    "        def find_root(value):\n",
    "            return lambda x: interpolator_dllh(x) - value\n",
    "\n",
    "        # Solve for points where dllh = 0.5\n",
    "        roots = []\n",
    "        for initial_guess in np.linspace(scan[parameter].min(), scan[parameter].max(), 100):\n",
    "            # print(initial_guess, interpolator_dllh(initial_guess))\n",
    "            try:\n",
    "                sol = root_scalar(find_root(root_1_sigma), bracket=[initial_guess, initial_guess + 0.1], method='bisect')\n",
    "                if sol.converged:\n",
    "                    roots.append(sol.root)\n",
    "            except ValueError:\n",
    "                continue  # Skip intervals where there are no solutions\n",
    "\n",
    "        # print(roots)\n",
    "\n",
    "        # Remove duplicate roots that are very close to each other\n",
    "        threshold = 1e-2  # Define a distance threshold\n",
    "        unique_roots = []\n",
    "        for root in roots:\n",
    "            if not unique_roots or all(abs(root - ur) > threshold for ur in unique_roots):\n",
    "                unique_roots.append(root)\n",
    "            \n",
    "        print(unique_roots)\n",
    "\n",
    "        print(f\"abs diff {abs(unique_roots-bestfits[name][parameter])}\")\n",
    "\n",
    "\n",
    "\n"
   ]
  },
  {
   "cell_type": "code",
   "execution_count": 8,
   "metadata": {},
   "outputs": [],
   "source": [
    "# for name in scan_dir_dict:\n",
    "#     if \"2D\" in name: continue\n",
    "#     find_errors(name)"
   ]
  },
  {
   "cell_type": "code",
   "execution_count": 17,
   "metadata": {},
   "outputs": [],
   "source": [
    "def plot_dllh( name, bestfitname, parameter ):\n",
    "\n",
    "    scan = scan_dict[name].get_scan_df( param_name = parameter, drop_unsuccessful = drop_unsuccessful)\n",
    "\n",
    "    bestfit = bestfits[bestfitname][parameter]\n",
    "\n",
    "    fig, (ax) = plt.subplots(1, 1)\n",
    "\n",
    "    ax.plot( scan[parameter], scan[\"dllh\"] )\n",
    "    ax.axhline(1.0, color=\"red\", linestyle=\"--\", label=\"dllh = 1.0\")\n",
    "    ax.axvline(bestfit, color=\"green\", linestyle=\"--\", label=f\"Bestfit {bestfit:.3f}\")\n",
    "\n",
    "    ax.set_xlabel(parameter)\n",
    "    ax.set_ylabel(\"dllh\")\n",
    "\n",
    "    ax.set_title(name)\n",
    "\n",
    "    # ax.set_ylim( [ min(scan[\"dllh\"]) - 1, min(scan[\"dllh\"]) +5])\n",
    "    ax.set_ylim( [ -1,5 ])\n",
    "\n",
    "    ax.legend()\n",
    "\n",
    "    plt.savefig(f\"{plotting_path}/dllh_name-{name}_parameter-{parameter}.pdf\")\n",
    "\n"
   ]
  },
  {
   "cell_type": "code",
   "execution_count": 21,
   "metadata": {},
   "outputs": [
    {
     "data": {
      "image/png": "[encoded data removed]",
      "text/plain": [
       "<Figure size 600x600 with 1 Axes>"
      ]
     },
     "metadata": {},
     "output_type": "display_data"
    }
   ],
   "source": [
    "# for name in scan_dir_dict:\n",
    "#     if \"2D\" in name: continue\n",
    "#     parameters = scan_dict[name].get_scan_list()\n",
    "#     for parameter in parameters:\n",
    "#         if parameter == \"freefit\": continue\n",
    "#         plot_dllh( name, parameter )\n",
    "\n",
    "\n",
    "# plot_dllh( \"SPL_10_100PeV_scan\",  \"SPL_10_100PeV\", \"astro_he_norm\" )\n",
    "# plot_dllh( \"SPL_100_1000PeV\",  \"SPL_100_1000PeV\", \"astro_he_norm\" )\n",
    "plot_dllh( \"SPL_30_300PeV\",  \"SPL_30_300PeV\", \"astro_he_norm\" )"
   ]
  },
  {
   "cell_type": "code",
   "execution_count": 22,
   "metadata": {},
   "outputs": [],
   "source": [
    "import scipy.stats as stats\n",
    "\n",
    "\n",
    "def calculate_sigma(chi2_value, degrees_of_freedom = 3):\n",
    "\n",
    "    # Calculate the p-value from the chi-squared survival function\n",
    "    p_value = stats.chi2.sf(chi2_value, degrees_of_freedom)\n",
    "\n",
    "    # Convert p-value to sigma (number of standard deviations)\n",
    "    sigma_significance = stats.norm.isf(p_value)\n",
    "\n",
    "    return sigma_significance"
   ]
  },
  {
   "cell_type": "code",
   "execution_count": 24,
   "metadata": {},
   "outputs": [
    {
     "name": "stdout",
     "output_type": "stream",
     "text": [
      "---------- 10_100PeV\n",
      "SPL 3.060697924730448 1.4036791191235742\n",
      "BPL 5.182522153803802 1.9987966031973436\n",
      "---------- 30_300PeV\n",
      "SPL 6.154719016621129 2.2230506144730633\n",
      "BPL 8.551373667020925 2.7013803621528485\n",
      "---------- 100_1000PeV\n",
      "SPL 11.434200554554081 3.18609149494635\n",
      "BPL 14.103336258323907 3.57812103043346\n"
     ]
    }
   ],
   "source": [
    "# compare chi2\n",
    "degrees_of_freedom = 1\n",
    "# print(10*\"-\", \"Old binning\")\n",
    "# print(\"SPL\",-2*(bestfits[\"SPL_he\"].llh-bestfits[\"SPL_he_bench\"].llh), calculate_sigma( -2*(bestfits[\"SPL_he\"].llh-bestfits[\"SPL_he_bench\"].llh), degrees_of_freedom=degrees_of_freedom ) )\n",
    "# print(\"BPL\",-2*(bestfits[\"BPL_he\"].llh-bestfits[\"BPL_he_bench\"].llh), calculate_sigma( -2*(bestfits[\"BPL_he\"].llh-bestfits[\"BPL_he_bench\"].llh), degrees_of_freedom=degrees_of_freedom ) )\n",
    "\n",
    "print(10*\"-\", \"10_100PeV\")\n",
    "print(\"SPL\",-2*(bestfits[\"SPL_10_100PeV\"].llh-bestfits[\"SPL_10_100PeV_bench\"].llh), calculate_sigma( -2*(bestfits[\"SPL_10_100PeV\"].llh-bestfits[\"SPL_10_100PeV_bench\"].llh), degrees_of_freedom=degrees_of_freedom ) )\n",
    "print(\"BPL\",-2*(bestfits[\"BPL_10_100PeV\"].llh-bestfits[\"BPL_10_100PeV_bench\"].llh), calculate_sigma( -2*(bestfits[\"BPL_10_100PeV\"].llh-bestfits[\"BPL_10_100PeV_bench\"].llh), degrees_of_freedom=degrees_of_freedom ) )\n",
    "\n",
    "print(10*\"-\", \"30_300PeV\")\n",
    "print(\"SPL\",-2*(bestfits[\"SPL_30_300PeV\"].llh-bestfits[\"SPL_30_300PeV_bench\"].llh), calculate_sigma( -2*(bestfits[\"SPL_30_300PeV\"].llh-bestfits[\"SPL_30_300PeV_bench\"].llh), degrees_of_freedom=degrees_of_freedom ) )\n",
    "print(\"BPL\",-2*(bestfits[\"BPL_30_300PeV\"].llh-bestfits[\"BPL_30_300PeV_bench\"].llh), calculate_sigma( -2*(bestfits[\"BPL_30_300PeV\"].llh-bestfits[\"BPL_30_300PeV_bench\"].llh), degrees_of_freedom=degrees_of_freedom ) )\n",
    "\n",
    "print(10*\"-\", \"100_1000PeV\")\n",
    "print(\"SPL\",-2*(bestfits[\"SPL_100_1000PeV\"].llh-bestfits[\"SPL_100_1000PeV_bench\"].llh), calculate_sigma( -2*(bestfits[\"SPL_100_1000PeV\"].llh-bestfits[\"SPL_100_1000PeV_bench\"].llh), degrees_of_freedom=degrees_of_freedom ) )\n",
    "print(\"BPL\",-2*(bestfits[\"BPL_100_1000PeV\"].llh-bestfits[\"BPL_100_1000PeV_bench\"].llh), calculate_sigma( -2*(bestfits[\"BPL_100_1000PeV\"].llh-bestfits[\"BPL_100_1000PeV_bench\"].llh), degrees_of_freedom=degrees_of_freedom ) )"
   ]
  },
  {
   "cell_type": "code",
   "execution_count": 39,
   "metadata": {},
   "outputs": [
    {
     "data": {
      "text/plain": [
       "<matplotlib.legend.Legend at 0x7f521c5b3a00>"
      ]
     },
     "execution_count": 39,
     "metadata": {},
     "output_type": "execute_result"
    },
    {
     "data": {
      "image/png": "[encoded data removed]",
      "text/plain": [
       "<Figure size 600x600 with 1 Axes>"
      ]
     },
     "metadata": {},
     "output_type": "display_data"
    }
   ],
   "source": [
    "# import EHE differential limits\n",
    "ehe_csv = pd.read_csv(\"/data/user/tvaneede/GlobalFit/analysis/combined_track_shower/plots/quasi_diff_ehe_ul.csv\")\n",
    "\n",
    "def powerlaw( energy, norm, gamma ):\n",
    "    return 3*norm*(energy/1e5)**(2-gamma) # 3 for all neutrino flavour flux\n",
    "\n",
    "norm_factor = 1e-8\n",
    "\n",
    "bestfit_astro_he_norm = {}\n",
    "log_energies = {}\n",
    "energies = {}\n",
    "flux_powerlaw = {}\n",
    "\n",
    "keys = [\"BPL_10_100PeV\",\"BPL_30_300PeV\", \"BPL_100_1000PeV\"]\n",
    "bounds = [(7,8),(7.5,8.5),(8,9)]\n",
    "centers = [7.5,8.,8.5]\n",
    "colors = [\"C0\", \"C3\", \"C2\"]\n",
    "\n",
    "# plotting\n",
    "fig, (ax) = plt.subplots(1, 1)\n",
    "\n",
    "ax.plot( ehe_csv[\"energy\"],  ehe_csv[\"ul\"], label = \"90% CL upper limit EHE\", color = \"black\" )\n",
    "\n",
    "for i,key in enumerate(keys):\n",
    "    bestfit_astro_he_norm[key] = bestfits[key][\"astro_he_norm\"]\n",
    "    log_energies[key] = np.linspace(bounds[i][0],bounds[i][1],1001)\n",
    "    energies[key] = 10**log_energies[key]\n",
    "    flux_powerlaw[key] = powerlaw( energies[key], norm = bestfit_astro_he_norm[key]*norm_factor, gamma = 1)\n",
    "    ax.plot( energies[key], flux_powerlaw[key], label = f\"Best fit {key} GeV\", color = colors[i] )\n",
    "    ax.plot( [10**centers[i]], [3*bestfit_astro_he_norm[key]*norm_factor*(10**centers[i]/1e5)**(2-1.0)], \"*\", color = colors[i] )\n",
    "\n",
    "\n",
    "# bestfit_astro_he_norm_10_100PeV = bestfits[\"BPL_10_100PeV\"][\"astro_he_norm\"]\n",
    "# bestfit_astro_he_norm_30_300PeV = bestfits[\"BPL_30_300PeV\"][\"astro_he_norm\"]\n",
    "# bestfit_astro_he_norm_100_1000PeV = bestfits[\"BPL_100_1000PeV\"][\"astro_he_norm\"]\n",
    "\n",
    "\n",
    "\n",
    "\n",
    "\n",
    "\n",
    "# ax.axvline(10**7.5, color=\"green\", linestyle=\"--\")\n",
    "# ax.plot( [1e7,1e8], [powerlaw(10**7.5,norm = bestfit_astro_he_norm*norm_factor, gamma = 1),powerlaw(10**7.5,norm = bestfit_astro_he_norm*norm_factor, gamma = 1)], label = r\"Best fit $10^7-10^8$ GeV\", color = \"blue\" )\n",
    "\n",
    "\n",
    "ax.set_xlabel(r\"$E_{\\nu}$ / GeV\")\n",
    "ax.set_ylabel(r\"$E_{\\nu}^2 \\phi(E_\\nu)$ [GeV cm$^{-2}$ s$^{-1}$ sr$^{-1}$]\")\n",
    "\n",
    "ax.set_title(\"Best fit parameters Globalfit\")\n",
    "\n",
    "ax.set_yscale(\"log\")\n",
    "ax.set_xscale(\"log\")\n",
    "\n",
    "ax.set_ylim( [ 1e-1,1e3 ])\n",
    "ax.set_ylim( [ 1e-9,6e-4 ])\n",
    "\n",
    "ax.legend(ncol = 1)\n",
    "\n",
    "# plt.savefig(f\"{plotting_path}/diff_limit_ehe.pdf\")\n"
   ]
  },
  {
   "cell_type": "code",
   "execution_count": 33,
   "metadata": {},
   "outputs": [
    {
     "data": {
      "text/plain": [
       "array([1.e+08, 1.e+08, 1.e+08, ..., 1.e+08, 1.e+08, 1.e+08])"
      ]
     },
     "execution_count": 33,
     "metadata": {},
     "output_type": "execute_result"
    }
   ],
   "source": [
    "energies[key]\n",
    "# flux_powerlaw[key]"
   ]
  }
 ],
 "metadata": {
  "kernelspec": {
   "display_name": "py3-v4.2.1_nnmfit-v0.3.0",
   "language": "python",
   "name": "python3"
  },
  "language_info": {
   "codemirror_mode": {
    "name": "ipython",
    "version": 3
   },
   "file_extension": ".py",
   "mimetype": "text/x-python",
   "name": "python",
   "nbconvert_exporter": "python",
   "pygments_lexer": "ipython3",
   "version": "3.10.2"
  }
 },
 "nbformat": 4,
 "nbformat_minor": 2
}
